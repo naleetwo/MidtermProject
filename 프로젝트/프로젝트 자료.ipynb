{
 "cells": [
  {
   "cell_type": "code",
   "execution_count": null,
   "id": "bb181efd",
   "metadata": {},
   "outputs": [],
   "source": [
    "import numpy as np\n",
    "\n",
    "import pandas as pd\n",
    "import seaborn as sns\n",
    "import matplotlib.pyplot as plt\n",
    "import matplotlib as mlp\n",
    "import matplotlib.font_manager as fm\n",
    "font_name = fm.FontProperties(fname =\"C:\\\\Windows\\\\Fonts\\\\malgun.ttf\").get_name()\n",
    "plt.rc('font',family=font_name)\n",
    "mlp.rcParams['axes.unicode_minus']=False"
   ]
  },
  {
   "cell_type": "code",
   "execution_count": null,
   "id": "7a79105f",
   "metadata": {},
   "outputs": [],
   "source": [
    "from selenium import webdriver\n",
    "from selenium.webdriver.common.by import By\n",
    "from selenium.webdriver.common.keys import Keys\n",
    "import time\n",
    "from tqdm.notebook import tqdm"
   ]
  },
  {
   "cell_type": "markdown",
   "id": "4bd8d38f",
   "metadata": {},
   "source": [
    "### 기준금리표"
   ]
  },
  {
   "cell_type": "code",
   "execution_count": null,
   "id": "748a56b1",
   "metadata": {},
   "outputs": [],
   "source": [
    "seoul_rate = pd.read_csv(\"C:\\\\hojun13\\\\python\\\\프로젝트\\\\한국은행 기준금리 및 여수신금리_08091655.csv\", encoding='utf-8')\n",
    "seoul_rate"
   ]
  },
  {
   "cell_type": "code",
   "execution_count": null,
   "id": "99d83ced",
   "metadata": {},
   "outputs": [],
   "source": [
    "seoul_rate=seoul_rate[['계정항목', '단위', '변환', '2022', '2021', '2020', '2019', '2018', '2017']]"
   ]
  },
  {
   "cell_type": "code",
   "execution_count": null,
   "id": "b68234b8",
   "metadata": {},
   "outputs": [],
   "source": [
    "seoul_rate.set_index('계정항목',inplace=True)"
   ]
  },
  {
   "cell_type": "code",
   "execution_count": null,
   "id": "3b63b1d9",
   "metadata": {},
   "outputs": [],
   "source": [
    "seoul_rate = seoul_rate.T"
   ]
  },
  {
   "cell_type": "markdown",
   "id": "604bfe69",
   "metadata": {},
   "source": [
    "### GDP표"
   ]
  },
  {
   "cell_type": "code",
   "execution_count": null,
   "id": "108a5e88",
   "metadata": {},
   "outputs": [],
   "source": [
    "seoul_GDP = pd.read_csv(\"C:\\\\hojun13\\\\python\\\\프로젝트\\\\국내총생산에 대한 지출(원계열, 명목, 분기 및 연간)_08104348.csv\", encoding='utf-8')\n",
    "seoul_GDP"
   ]
  },
  {
   "cell_type": "code",
   "execution_count": null,
   "id": "6c893935",
   "metadata": {},
   "outputs": [],
   "source": [
    "seoul_GDP=seoul_GDP[['계정항목', '단위', '변환', '2022', '2021', '2020', '2019', '2018', '2017']]\n",
    "seoul_GDP"
   ]
  },
  {
   "cell_type": "code",
   "execution_count": null,
   "id": "3e27eb1b",
   "metadata": {},
   "outputs": [],
   "source": [
    "seoul_GDP.set_index('계정항목', inplace= True)\n",
    "seoul_GDP"
   ]
  },
  {
   "cell_type": "code",
   "execution_count": null,
   "id": "cddc6f5c",
   "metadata": {},
   "outputs": [],
   "source": [
    "seoul_GDP = seoul_GDP.T\n",
    "seoul_GDP"
   ]
  },
  {
   "cell_type": "markdown",
   "id": "502cbce9",
   "metadata": {},
   "source": [
    "### GDP, 금리 합치기"
   ]
  },
  {
   "cell_type": "code",
   "execution_count": null,
   "id": "e27923df",
   "metadata": {},
   "outputs": [],
   "source": [
    "seoul_finance = pd.concat([seoul_rate, seoul_GDP], axis=1)\n",
    "seoul_finance"
   ]
  },
  {
   "cell_type": "code",
   "execution_count": null,
   "id": "0274fe70",
   "metadata": {},
   "outputs": [],
   "source": [
    "seoul_finance.iloc[1:2, 2] ='원자료(십억원)'"
   ]
  },
  {
   "cell_type": "code",
   "execution_count": null,
   "id": "aa6cf6fc",
   "metadata": {},
   "outputs": [],
   "source": [
    "seoul_finance.iloc[1:2, (1,3)] ='전년말증감률(%)'"
   ]
  },
  {
   "cell_type": "code",
   "execution_count": null,
   "id": "cd7dec5d",
   "metadata": {},
   "outputs": [],
   "source": [
    "seoul_finance.columns.values[1] ='기준금리 변동률'\n",
    "seoul_finance.columns.values[3] ='GDP 변동률'"
   ]
  },
  {
   "cell_type": "code",
   "execution_count": null,
   "id": "71a16fc5",
   "metadata": {},
   "outputs": [],
   "source": [
    "seoul_finance.drop(seoul_finance.index[0], inplace=True)"
   ]
  },
  {
   "cell_type": "code",
   "execution_count": null,
   "id": "ed785dac",
   "metadata": {},
   "outputs": [],
   "source": [
    "seoul_finance['기준금리'] = pd.to_numeric(seoul_finance['기준금리'])\n",
    "seoul_finance['기준금리 변동률(%)'] = pd.to_numeric(seoul_finance['기준금리 변동률(%)'])\n",
    "seoul_finance['GDP 변동률(%)'] = pd.to_numeric(seoul_finance['GDP 변동률(%)'])"
   ]
  },
  {
   "cell_type": "markdown",
   "id": "42315e88",
   "metadata": {},
   "source": [
    "### 물가 표"
   ]
  },
  {
   "cell_type": "code",
   "execution_count": null,
   "id": "62ee3508",
   "metadata": {},
   "outputs": [],
   "source": [
    "seoul_price = pd.read_csv(\"C:\\\\hojun13\\\\python\\\\프로젝트\\\\소비자물가지수_08104616.csv\", encoding='utf-8')\n",
    "seoul_price"
   ]
  },
  {
   "cell_type": "code",
   "execution_count": null,
   "id": "ab81646b",
   "metadata": {},
   "outputs": [],
   "source": [
    "seoul_price=seoul_price[['계정항목', '변환', '2022', '2021', '2020', '2019', '2018', '2017']]"
   ]
  },
  {
   "cell_type": "code",
   "execution_count": null,
   "id": "ccf03ea8",
   "metadata": {},
   "outputs": [],
   "source": [
    "seoul_price.set_index('계정항목', inplace=True)"
   ]
  },
  {
   "cell_type": "code",
   "execution_count": null,
   "id": "67812b6d",
   "metadata": {},
   "outputs": [],
   "source": [
    "seoul_price = seoul_price.T\n",
    "seoul_price"
   ]
  },
  {
   "cell_type": "code",
   "execution_count": null,
   "id": "5c40e95d",
   "metadata": {},
   "outputs": [],
   "source": [
    "seoul_price.columns.values[1] ='물가지수 상승률'\n",
    "seoul_price.columns.values[0] ='물가지수'"
   ]
  },
  {
   "cell_type": "code",
   "execution_count": null,
   "id": "bae2f488",
   "metadata": {},
   "outputs": [],
   "source": [
    "seoul_price.drop(seoul_price.index[0], inplace=True)"
   ]
  },
  {
   "cell_type": "code",
   "execution_count": null,
   "id": "be2b03a3",
   "metadata": {},
   "outputs": [],
   "source": [
    "seoul_price.rename(columns={'물가지수' : '물가지수', '물가지수 상승률' : '물가지수 상승률(%)'}, inplace=True)"
   ]
  },
  {
   "cell_type": "code",
   "execution_count": null,
   "id": "8dc8923e",
   "metadata": {},
   "outputs": [],
   "source": [
    "%matplotlib inline\n",
    "sns.pairplot(seoul_finance)"
   ]
  },
  {
   "cell_type": "code",
   "execution_count": null,
   "id": "2334fdbc",
   "metadata": {},
   "outputs": [],
   "source": []
  },
  {
   "cell_type": "code",
   "execution_count": null,
   "id": "f6055482",
   "metadata": {},
   "outputs": [],
   "source": []
  },
  {
   "cell_type": "code",
   "execution_count": null,
   "id": "e63c59c5",
   "metadata": {},
   "outputs": [],
   "source": []
  },
  {
   "cell_type": "code",
   "execution_count": null,
   "id": "8419126f",
   "metadata": {},
   "outputs": [],
   "source": []
  },
  {
   "cell_type": "code",
   "execution_count": null,
   "id": "b1658016",
   "metadata": {},
   "outputs": [],
   "source": []
  },
  {
   "cell_type": "code",
   "execution_count": null,
   "id": "e742d103",
   "metadata": {},
   "outputs": [],
   "source": []
  },
  {
   "cell_type": "code",
   "execution_count": null,
   "id": "639b6abb",
   "metadata": {},
   "outputs": [],
   "source": []
  },
  {
   "cell_type": "code",
   "execution_count": null,
   "id": "2799ad73",
   "metadata": {},
   "outputs": [],
   "source": []
  },
  {
   "cell_type": "code",
   "execution_count": null,
   "id": "25e4b980",
   "metadata": {},
   "outputs": [],
   "source": []
  },
  {
   "cell_type": "code",
   "execution_count": null,
   "id": "5b593246",
   "metadata": {},
   "outputs": [],
   "source": []
  },
  {
   "cell_type": "code",
   "execution_count": null,
   "id": "18095dd3",
   "metadata": {},
   "outputs": [],
   "source": []
  },
  {
   "cell_type": "code",
   "execution_count": null,
   "id": "67a4d20b",
   "metadata": {},
   "outputs": [],
   "source": []
  },
  {
   "cell_type": "code",
   "execution_count": null,
   "id": "2b9d5b2e",
   "metadata": {},
   "outputs": [],
   "source": []
  },
  {
   "cell_type": "code",
   "execution_count": null,
   "id": "00766efb",
   "metadata": {},
   "outputs": [],
   "source": []
  },
  {
   "cell_type": "code",
   "execution_count": null,
   "id": "81c800a7",
   "metadata": {},
   "outputs": [],
   "source": []
  },
  {
   "cell_type": "code",
   "execution_count": null,
   "id": "d5ff5ec7",
   "metadata": {},
   "outputs": [],
   "source": []
  },
  {
   "cell_type": "code",
   "execution_count": null,
   "id": "f0fa273e",
   "metadata": {},
   "outputs": [],
   "source": []
  },
  {
   "cell_type": "code",
   "execution_count": null,
   "id": "cc59e3c1",
   "metadata": {},
   "outputs": [],
   "source": []
  },
  {
   "cell_type": "code",
   "execution_count": null,
   "id": "c3578a60",
   "metadata": {},
   "outputs": [],
   "source": []
  },
  {
   "cell_type": "code",
   "execution_count": null,
   "id": "cc76eb58",
   "metadata": {},
   "outputs": [],
   "source": []
  },
  {
   "cell_type": "code",
   "execution_count": null,
   "id": "8cf53f4f",
   "metadata": {},
   "outputs": [],
   "source": []
  },
  {
   "cell_type": "code",
   "execution_count": null,
   "id": "b89ddf3b",
   "metadata": {},
   "outputs": [],
   "source": []
  }
 ],
 "metadata": {
  "kernelspec": {
   "display_name": "Python 3 (ipykernel)",
   "language": "python",
   "name": "python3"
  },
  "language_info": {
   "codemirror_mode": {
    "name": "ipython",
    "version": 3
   },
   "file_extension": ".py",
   "mimetype": "text/x-python",
   "name": "python",
   "nbconvert_exporter": "python",
   "pygments_lexer": "ipython3",
   "version": "3.9.13"
  }
 },
 "nbformat": 4,
 "nbformat_minor": 5
}
