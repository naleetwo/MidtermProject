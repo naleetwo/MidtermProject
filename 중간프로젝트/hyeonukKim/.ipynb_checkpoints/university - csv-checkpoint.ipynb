{
 "cells": [
  {
   "cell_type": "markdown",
   "id": "aa3496c4",
   "metadata": {},
   "source": [
    "# 대학교 정보\n",
    "## 일반대학, 교육대학, 전문대학, 특수학교 데이터 포함\n",
    "### 데이터 출처 \n",
    "    - https://kosis.kr/statHtml/statHtml.do?orgId=101&tblId=DT_1YL21181"
   ]
  },
  {
   "cell_type": "code",
   "execution_count": null,
   "id": "0c73ce84",
   "metadata": {},
   "outputs": [],
   "source": []
  },
  {
   "cell_type": "code",
   "execution_count": null,
   "id": "4ee35854",
   "metadata": {},
   "outputs": [],
   "source": [
    "import pandas as pd"
   ]
  },
  {
   "cell_type": "code",
   "execution_count": 7,
   "id": "5116b9e1",
   "metadata": {},
   "outputs": [],
   "source": [
    "uni=pd.read_csv(\"C:\\\\Users\\\\owner\\\\team project\\\\대학교_수_시도_시_군_구__20230418143625.csv\",encoding=\"EUC-KR\",header=1)"
   ]
  },
  {
   "cell_type": "code",
   "execution_count": 8,
   "id": "2c9f33fa",
   "metadata": {},
   "outputs": [
    {
     "data": {
      "text/html": [
       "<div>\n",
       "<style scoped>\n",
       "    .dataframe tbody tr th:only-of-type {\n",
       "        vertical-align: middle;\n",
       "    }\n",
       "\n",
       "    .dataframe tbody tr th {\n",
       "        vertical-align: top;\n",
       "    }\n",
       "\n",
       "    .dataframe thead th {\n",
       "        text-align: right;\n",
       "    }\n",
       "</style>\n",
       "<table border=\"1\" class=\"dataframe\">\n",
       "  <thead>\n",
       "    <tr style=\"text-align: right;\">\n",
       "      <th></th>\n",
       "      <th>행정구역별</th>\n",
       "      <th>대학교 수&lt;br&gt;(A+B+C+D)</th>\n",
       "      <th>대학교 수&lt;br&gt;(A+B+C+D).1</th>\n",
       "      <th>대학교 수&lt;br&gt;(A+B+C+D).2</th>\n",
       "      <th>대학교 수&lt;br&gt;(A+B+C+D).3</th>\n",
       "      <th>대학교 수&lt;br&gt;(A+B+C+D).4</th>\n",
       "    </tr>\n",
       "  </thead>\n",
       "  <tbody>\n",
       "    <tr>\n",
       "      <th>0</th>\n",
       "      <td>서울특별시</td>\n",
       "      <td>48</td>\n",
       "      <td>48</td>\n",
       "      <td>48</td>\n",
       "      <td>48</td>\n",
       "      <td>48</td>\n",
       "    </tr>\n",
       "    <tr>\n",
       "      <th>1</th>\n",
       "      <td>종로구</td>\n",
       "      <td>3</td>\n",
       "      <td>3</td>\n",
       "      <td>3</td>\n",
       "      <td>3</td>\n",
       "      <td>3</td>\n",
       "    </tr>\n",
       "    <tr>\n",
       "      <th>2</th>\n",
       "      <td>중구</td>\n",
       "      <td>2</td>\n",
       "      <td>2</td>\n",
       "      <td>2</td>\n",
       "      <td>2</td>\n",
       "      <td>2</td>\n",
       "    </tr>\n",
       "    <tr>\n",
       "      <th>3</th>\n",
       "      <td>용산구</td>\n",
       "      <td>1</td>\n",
       "      <td>1</td>\n",
       "      <td>1</td>\n",
       "      <td>1</td>\n",
       "      <td>1</td>\n",
       "    </tr>\n",
       "    <tr>\n",
       "      <th>4</th>\n",
       "      <td>성동구</td>\n",
       "      <td>2</td>\n",
       "      <td>2</td>\n",
       "      <td>2</td>\n",
       "      <td>2</td>\n",
       "      <td>2</td>\n",
       "    </tr>\n",
       "  </tbody>\n",
       "</table>\n",
       "</div>"
      ],
      "text/plain": [
       "   행정구역별  대학교 수<br>(A+B+C+D)  대학교 수<br>(A+B+C+D).1  대학교 수<br>(A+B+C+D).2  \\\n",
       "0  서울특별시                  48                    48                    48   \n",
       "1    종로구                   3                     3                     3   \n",
       "2     중구                   2                     2                     2   \n",
       "3    용산구                   1                     1                     1   \n",
       "4    성동구                   2                     2                     2   \n",
       "\n",
       "   대학교 수<br>(A+B+C+D).3  대학교 수<br>(A+B+C+D).4  \n",
       "0                    48                    48  \n",
       "1                     3                     3  \n",
       "2                     2                     2  \n",
       "3                     1                     1  \n",
       "4                     2                     2  "
      ]
     },
     "execution_count": 8,
     "metadata": {},
     "output_type": "execute_result"
    }
   ],
   "source": [
    "uni.head()"
   ]
  },
  {
   "cell_type": "code",
   "execution_count": 9,
   "id": "dd64e95f",
   "metadata": {},
   "outputs": [],
   "source": [
    "# 컬럼 이름바꾸기\n",
    "uni.columns=[\"자치구별\",\"2018년도대학교수\",\"2019년도대학교수\",\"2020년도대학교수\",\"2021년도대학교수\",\"2022년도대학교수\"]"
   ]
  },
  {
   "cell_type": "code",
   "execution_count": null,
   "id": "0afcff9e",
   "metadata": {},
   "outputs": [],
   "source": [
    "uni[\"자치구별\"]"
   ]
  },
  {
   "cell_type": "code",
   "execution_count": 11,
   "id": "68284080",
   "metadata": {},
   "outputs": [
    {
     "data": {
      "text/html": [
       "<div>\n",
       "<style scoped>\n",
       "    .dataframe tbody tr th:only-of-type {\n",
       "        vertical-align: middle;\n",
       "    }\n",
       "\n",
       "    .dataframe tbody tr th {\n",
       "        vertical-align: top;\n",
       "    }\n",
       "\n",
       "    .dataframe thead th {\n",
       "        text-align: right;\n",
       "    }\n",
       "</style>\n",
       "<table border=\"1\" class=\"dataframe\">\n",
       "  <thead>\n",
       "    <tr style=\"text-align: right;\">\n",
       "      <th></th>\n",
       "      <th>자치구별</th>\n",
       "      <th>2018년도대학교수</th>\n",
       "      <th>2019년도대학교수</th>\n",
       "      <th>2020년도대학교수</th>\n",
       "      <th>2021년도대학교수</th>\n",
       "      <th>2022년도대학교수</th>\n",
       "    </tr>\n",
       "  </thead>\n",
       "  <tbody>\n",
       "    <tr>\n",
       "      <th>0</th>\n",
       "      <td>서울특별시</td>\n",
       "      <td>48</td>\n",
       "      <td>48</td>\n",
       "      <td>48</td>\n",
       "      <td>48</td>\n",
       "      <td>48</td>\n",
       "    </tr>\n",
       "    <tr>\n",
       "      <th>1</th>\n",
       "      <td>종로구</td>\n",
       "      <td>3</td>\n",
       "      <td>3</td>\n",
       "      <td>3</td>\n",
       "      <td>3</td>\n",
       "      <td>3</td>\n",
       "    </tr>\n",
       "    <tr>\n",
       "      <th>2</th>\n",
       "      <td>중구</td>\n",
       "      <td>2</td>\n",
       "      <td>2</td>\n",
       "      <td>2</td>\n",
       "      <td>2</td>\n",
       "      <td>2</td>\n",
       "    </tr>\n",
       "    <tr>\n",
       "      <th>3</th>\n",
       "      <td>용산구</td>\n",
       "      <td>1</td>\n",
       "      <td>1</td>\n",
       "      <td>1</td>\n",
       "      <td>1</td>\n",
       "      <td>1</td>\n",
       "    </tr>\n",
       "    <tr>\n",
       "      <th>4</th>\n",
       "      <td>성동구</td>\n",
       "      <td>2</td>\n",
       "      <td>2</td>\n",
       "      <td>2</td>\n",
       "      <td>2</td>\n",
       "      <td>2</td>\n",
       "    </tr>\n",
       "  </tbody>\n",
       "</table>\n",
       "</div>"
      ],
      "text/plain": [
       "    자치구별  2018년도대학교수  2019년도대학교수  2020년도대학교수  2021년도대학교수  2022년도대학교수\n",
       "0  서울특별시          48          48          48          48          48\n",
       "1    종로구           3           3           3           3           3\n",
       "2     중구           2           2           2           2           2\n",
       "3    용산구           1           1           1           1           1\n",
       "4    성동구           2           2           2           2           2"
      ]
     },
     "execution_count": 11,
     "metadata": {},
     "output_type": "execute_result"
    }
   ],
   "source": [
    "uni.head()"
   ]
  },
  {
   "cell_type": "code",
   "execution_count": 19,
   "id": "f31d00a7",
   "metadata": {},
   "outputs": [],
   "source": [
    "# 자치구별 컬럼 인덱스로 변경\n",
    "uni.set_index(\"자치구별\",inplace=True)"
   ]
  },
  {
   "cell_type": "code",
   "execution_count": 20,
   "id": "b3dbb9ee",
   "metadata": {},
   "outputs": [],
   "source": [
    "university=uni"
   ]
  },
  {
   "cell_type": "code",
   "execution_count": null,
   "id": "d2b4f4ae",
   "metadata": {},
   "outputs": [],
   "source": [
    "# 필요없는 데이터 제거\n",
    "university.drop(\"서울특별시\",inplace=True)"
   ]
  },
  {
   "cell_type": "code",
   "execution_count": 24,
   "id": "0d99dbb8",
   "metadata": {},
   "outputs": [
    {
     "ename": "TypeError",
     "evalue": "'DataFrame' object is not callable",
     "output_type": "error",
     "traceback": [
      "\u001b[1;31m---------------------------------------------------------------------------\u001b[0m",
      "\u001b[1;31mTypeError\u001b[0m                                 Traceback (most recent call last)",
      "\u001b[1;32m~\\AppData\\Local\\Temp\\ipykernel_7228\\3894524146.py\u001b[0m in \u001b[0;36m<module>\u001b[1;34m\u001b[0m\n\u001b[1;32m----> 1\u001b[1;33m \u001b[0muniversity\u001b[0m\u001b[1;33m(\u001b[0m\u001b[1;33m)\u001b[0m\u001b[1;33m\u001b[0m\u001b[1;33m\u001b[0m\u001b[0m\n\u001b[0m",
      "\u001b[1;31mTypeError\u001b[0m: 'DataFrame' object is not callable"
     ]
    }
   ],
   "source": [
    "university()"
   ]
  },
  {
   "cell_type": "code",
   "execution_count": 26,
   "id": "ad614e23",
   "metadata": {},
   "outputs": [],
   "source": [
    "university.to_csv(\"C:\\\\Users\\\\owner\\\\team project\\\\전처리 완\\\\university.csv\")"
   ]
  },
  {
   "cell_type": "code",
   "execution_count": null,
   "id": "8bbfd738",
   "metadata": {},
   "outputs": [],
   "source": []
  }
 ],
 "metadata": {
  "kernelspec": {
   "display_name": "Python 3 (ipykernel)",
   "language": "python",
   "name": "python3"
  },
  "language_info": {
   "codemirror_mode": {
    "name": "ipython",
    "version": 3
   },
   "file_extension": ".py",
   "mimetype": "text/x-python",
   "name": "python",
   "nbconvert_exporter": "python",
   "pygments_lexer": "ipython3",
   "version": "3.9.13"
  }
 },
 "nbformat": 4,
 "nbformat_minor": 5
}
