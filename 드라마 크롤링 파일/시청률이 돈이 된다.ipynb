{
 "cells": [
  {
   "cell_type": "markdown",
   "id": "f8616352",
   "metadata": {},
   "source": [
    "- 시청률이라는 것 자체가 단지 텔레\n",
    "    비전 수용자들의 매체 노출정도를 나타내는 자료이고 이를 통해 시청자들의 \n",
    "    텔레비전 매체 이용패턴과 빈도를 알아보는 것이긴 하지만, 1990년 이후 상업\n",
    "    방송의 등장과 더불어 가속도가 붙은 방송의 상업화는 ‘시청률 경쟁’이라는 \n",
    "    방송사간의 치열한 싸움판을 만들어 놓았다. 시청률은 단순히 텔레비전 시청\n",
    "    자들의 시청행태를 알아보는데 그치는 것이 아니라 특정 방송사의 특정한 프\n",
    "    로그램 광고판매를 위한 지수로 활용되고 있기 때문이다. 시청률에 대한 자료\n",
    "    가 방송의 상업화를 부추기고 이로 인해 방송이 지녀야 할 공공적 성격을 심\n",
    "    하게 훼손시키고 있다는 많은 비판이 있는 것도 사실이지만 시청률에 대한 \n",
    "    자료적 의미는 날로 증대되어 가고 있다. "
   ]
  },
  {
   "cell_type": "markdown",
   "id": "a7abb50e",
   "metadata": {},
   "source": [
    "- https://www.racoi.or.kr/kobaco/nreport/totalresponse.do?racoi#"
   ]
  },
  {
   "cell_type": "code",
   "execution_count": null,
   "id": "a37652ce",
   "metadata": {},
   "outputs": [],
   "source": [
    "1. 배우 -> 인스타 팔로워 수를 기준으로 4등급으로 표시 -> 각 등급에 따른 배우와 출연작의 시청률을 비교\n",
    "\n",
    "2. 장르 -> 워드 클라우드로 현재 가장 많이 반영된 장르를 확인, 가장 인기 있는 드라마의 장르와 비교\n",
    "\n",
    "3. 방송 시간 방송 요일 시청률과의 관계(이건 통계사이트가 존재함)\n",
    "\n",
    "4. 방송사 시청률 : 이것도 통계사이트와 논문이 존재함\n",
    "\n",
    "5. 네이버 티비 구독자의 수 -> 크롤링\n",
    "\n",
    "팀 프로젝드 해야 할 작업\n",
    "- SBS, KBS, MBC, JTBC, TVN 각종 드라마 이름 시청률 크롤링\n",
    "\n",
    "- 인스타 팔로워수 크롤링\n",
    "\n",
    "- 네이버 티비 구독자의 수 크롤링\n",
    "\n",
    "- DB제작\n",
    "\n",
    "- 데이터 프레임 작성\n",
    "\n",
    "- 각종 통계 사이트에서 자료를 수집해 전처리\n",
    "\n",
    "- 원작의 유무(리메이크작)\n",
    "\n",
    "- 전처리된 자료로 그래프 작성(총 6개 : 장르, 배우, 방송시간, 요일, 방송사, 구독자의 수)\n",
    "\n",
    "- 결론 작성"
   ]
  },
  {
   "cell_type": "code",
   "execution_count": null,
   "id": "f0a6e54f",
   "metadata": {},
   "outputs": [],
   "source": []
  },
  {
   "cell_type": "code",
   "execution_count": null,
   "id": "52dea423",
   "metadata": {},
   "outputs": [],
   "source": []
  },
  {
   "cell_type": "code",
   "execution_count": null,
   "id": "4cebeca2",
   "metadata": {},
   "outputs": [],
   "source": []
  },
  {
   "cell_type": "code",
   "execution_count": null,
   "id": "3a065fd6",
   "metadata": {},
   "outputs": [],
   "source": []
  },
  {
   "cell_type": "code",
   "execution_count": null,
   "id": "c89bed58",
   "metadata": {},
   "outputs": [],
   "source": []
  },
  {
   "cell_type": "code",
   "execution_count": null,
   "id": "a975249a",
   "metadata": {},
   "outputs": [],
   "source": []
  },
  {
   "cell_type": "code",
   "execution_count": null,
   "id": "0bf192ec",
   "metadata": {},
   "outputs": [],
   "source": []
  },
  {
   "cell_type": "code",
   "execution_count": null,
   "id": "bd5cc73f",
   "metadata": {},
   "outputs": [],
   "source": []
  },
  {
   "cell_type": "code",
   "execution_count": null,
   "id": "66e5515e",
   "metadata": {},
   "outputs": [],
   "source": []
  }
 ],
 "metadata": {
  "kernelspec": {
   "display_name": "Python 3 (ipykernel)",
   "language": "python",
   "name": "python3"
  },
  "language_info": {
   "codemirror_mode": {
    "name": "ipython",
    "version": 3
   },
   "file_extension": ".py",
   "mimetype": "text/x-python",
   "name": "python",
   "nbconvert_exporter": "python",
   "pygments_lexer": "ipython3",
   "version": "3.9.13"
  }
 },
 "nbformat": 4,
 "nbformat_minor": 5
}
