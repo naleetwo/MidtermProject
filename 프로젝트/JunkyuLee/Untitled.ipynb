{
 "cells": [
  {
   "cell_type": "code",
   "execution_count": 1,
   "id": "d92b73b8",
   "metadata": {},
   "outputs": [],
   "source": [
    "import numpy as np\n",
    "import pandas as pd"
   ]
  },
  {
   "cell_type": "code",
   "execution_count": null,
   "id": "79aaaf09",
   "metadata": {},
   "outputs": [],
   "source": []
  },
  {
   "cell_type": "code",
   "execution_count": 2,
   "id": "91a39797",
   "metadata": {},
   "outputs": [
    {
     "name": "stdout",
     "output_type": "stream",
     "text": [
      "['2017-1-31', '2017-2-28', '2017-3-31', '2017-4-30', '2017-5-31', '2017-6-30', '2017-7-31', '2017-8-31', '2017-9-30', '2017-10-31', '2017-11-30', '2017-12-31', '2018-1-31', '2018-2-28', '2018-3-31', '2018-4-30', '2018-5-31', '2018-6-30', '2018-7-31', '2018-8-31', '2018-9-30', '2018-10-31', '2018-11-30', '2018-12-31', '2019-1-31', '2019-2-28', '2019-3-31', '2019-4-30', '2019-5-31', '2019-6-30', '2019-7-31', '2019-8-31', '2019-9-30', '2019-10-31', '2019-11-30', '2019-12-31', '2020-1-31', '2020-2-29', '2020-3-31', '2020-4-30', '2020-5-31', '2020-6-30', '2020-7-31', '2020-8-31', '2020-9-30', '2020-10-31', '2020-11-30', '2020-12-31', '2021-1-31', '2021-2-28', '2021-3-31', '2021-4-30', '2021-5-31', '2021-6-30', '2021-7-31', '2021-8-31', '2021-9-30', '2021-10-31', '2021-11-30', '2021-12-31', '2022-1-31', '2022-2-28', '2022-3-31', '2022-4-30', '2022-5-31', '2022-6-30', '2022-7-31', '2022-8-31', '2022-9-30', '2022-10-31', '2022-11-30', '2022-12-31'] "
     ]
    }
   ],
   "source": [
    "import calendar\n",
    "\n",
    "Date = []\n",
    "for year in range(2017, 2023):  # 2017년부터 2022년까지 반복\n",
    "    for month in range(1, 13):  # 1월부터 12월까지 반복\n",
    "        last_day = calendar.monthrange(year, month)[1]  # 각 달의 마지막 날짜\n",
    "        Date.append(f\"{year}-{month}-{last_day}\")\n",
    "print(Date, end=\" \")"
   ]
  },
  {
   "cell_type": "code",
   "execution_count": null,
   "id": "6681d6b0",
   "metadata": {},
   "outputs": [],
   "source": [
    "for year in range(2017, 2023):\n",
    "    for month in range(1, 13):\n",
    "        "
   ]
  },
  {
   "cell_type": "code",
   "execution_count": 12,
   "id": "0c1416b0",
   "metadata": {},
   "outputs": [
    {
     "name": "stdout",
     "output_type": "stream",
     "text": [
      "3\n"
     ]
    }
   ],
   "source": [
    "last_day = calendar.monthrange(year, month)[0]\n",
    "print(last_day)"
   ]
  },
  {
   "cell_type": "code",
   "execution_count": 21,
   "id": "def57e03",
   "metadata": {},
   "outputs": [],
   "source": [
    "df = pd.DataFrame(columns=['a반','b반'])"
   ]
  },
  {
   "cell_type": "code",
   "execution_count": 22,
   "id": "7058bcc0",
   "metadata": {},
   "outputs": [],
   "source": [
    "df['a반']=[1, 2, 3]"
   ]
  },
  {
   "cell_type": "code",
   "execution_count": 23,
   "id": "381d96da",
   "metadata": {},
   "outputs": [],
   "source": [
    "df['b반']=[2, 3, 4]"
   ]
  },
  {
   "cell_type": "code",
   "execution_count": 37,
   "id": "1500c8fd",
   "metadata": {},
   "outputs": [
    {
     "name": "stdout",
     "output_type": "stream",
     "text": [
      "Object `pd.margins` not found.\n"
     ]
    }
   ],
   "source": []
  },
  {
   "cell_type": "code",
   "execution_count": null,
   "id": "87ee0cd6",
   "metadata": {},
   "outputs": [],
   "source": []
  }
 ],
 "metadata": {
  "kernelspec": {
   "display_name": "Python 3 (ipykernel)",
   "language": "python",
   "name": "python3"
  },
  "language_info": {
   "codemirror_mode": {
    "name": "ipython",
    "version": 3
   },
   "file_extension": ".py",
   "mimetype": "text/x-python",
   "name": "python",
   "nbconvert_exporter": "python",
   "pygments_lexer": "ipython3",
   "version": "3.9.13"
  }
 },
 "nbformat": 4,
 "nbformat_minor": 5
}
