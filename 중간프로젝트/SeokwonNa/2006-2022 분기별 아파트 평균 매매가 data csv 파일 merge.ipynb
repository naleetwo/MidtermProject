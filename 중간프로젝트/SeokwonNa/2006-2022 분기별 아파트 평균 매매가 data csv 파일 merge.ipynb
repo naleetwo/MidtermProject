{
 "cells": [
  {
   "cell_type": "code",
   "execution_count": 1,
   "metadata": {},
   "outputs": [],
   "source": [
    "import matplotlib as mlp\n",
    "import numpy as np\n",
    "import pandas as pd\n",
    "import matplotlib.pyplot as plt\n",
    "import seaborn as sns\n",
    "\n",
    "#matplot 한글폰트 설정\n",
    "import matplotlib.font_manager as fm\n",
    "font_name = fm.FontProperties(fname=\"C:\\Windows\\Fonts\\GULIM.TTC\").get_name()\n",
    "plt.rc(\"font\", family=font_name)\n",
    "\n",
    "mlp.rcParams[\"axes.unicode_minus\"] = False"
   ]
  },
  {
   "attachments": {},
   "cell_type": "markdown",
   "metadata": {},
   "source": [
    "### 2006-2022 분기별 아파트 평균 매매가 data.csv 파일 합치기\n",
    "#### 2006-2022, 아파트 매매가 실거래 자료"
   ]
  },
  {
   "cell_type": "code",
   "execution_count": 2,
   "metadata": {},
   "outputs": [],
   "source": [
    "import glob\n",
    "import re"
   ]
  },
  {
   "cell_type": "code",
   "execution_count": 3,
   "metadata": {},
   "outputs": [
    {
     "name": "stdout",
     "output_type": "stream",
     "text": [
      "       계정항목  1m^2 전용면적당 거래금액(만원)\n",
      "0   2006/Q1                497.0\n",
      "1   2006/Q2                424.0\n",
      "2   2006/Q3                407.0\n",
      "3   2006/Q4                462.0\n",
      "0   2007/Q1                393.0\n",
      "..      ...                  ...\n",
      "3   2021/Q4               1443.0\n",
      "0   2022/Q1               1382.0\n",
      "1   2022/Q2               1452.0\n",
      "2   2022/Q3               1269.0\n",
      "3   2022/Q4               1249.0\n",
      "\n",
      "[68 rows x 2 columns]\n"
     ]
    }
   ],
   "source": [
    "# 아파트 구별 연평균 실거래 매매가 2018-2022년 data merge\n",
    "# 파일 경로가 저장된 폴더 경로\n",
    "#apt_buyprice_path = r\"C:/seokwonna/프로젝트/apt_buysell_price_2018-22\"\n",
    "#apt_rentprice_path = r\"C:/seokwonna/프로젝트/apt_rent_price_2018-22\"\n",
    "apt_quarterprice_path = r\"C:/seokwonna/프로젝트/apt_quarterprice_2006-2022\"\n",
    "# point3가 포함된 csv 파일의 정규표현식\n",
    "pattern = re.compile('.*quater.*')\n",
    "\n",
    "# 파일 이름에 pattern이 포함된 모든 CSV 파일의 경로를 검색\n",
    "all_files = glob.glob(apt_quarterprice_path + \"/*.csv\")\n",
    "all_files = [file for file in all_files if pattern.match(file)]\n",
    "\n",
    "# 모든 CSV 파일의 데이터를 담을 빈 데이터프레임 생성\n",
    "df_quarterbuyprice = pd.DataFrame()\n",
    "\n",
    "# 모든 CSV 파일을 반복하며 데이터를 결합\n",
    "for file in all_files:\n",
    "    temp_df = pd.read_csv(file)  # CSV 파일 읽어오기\n",
    "    df_quarterbuyprice = pd.concat([df_quarterbuyprice, temp_df])  # 데이터 결합\n",
    "\n",
    "# 결과 출력\n",
    "print(df_quarterbuyprice)\n",
    "\n"
   ]
  },
  {
   "cell_type": "code",
   "execution_count": 4,
   "metadata": {},
   "outputs": [
    {
     "data": {
      "text/html": [
       "<div>\n",
       "<style scoped>\n",
       "    .dataframe tbody tr th:only-of-type {\n",
       "        vertical-align: middle;\n",
       "    }\n",
       "\n",
       "    .dataframe tbody tr th {\n",
       "        vertical-align: top;\n",
       "    }\n",
       "\n",
       "    .dataframe thead th {\n",
       "        text-align: right;\n",
       "    }\n",
       "</style>\n",
       "<table border=\"1\" class=\"dataframe\">\n",
       "  <thead>\n",
       "    <tr style=\"text-align: right;\">\n",
       "      <th></th>\n",
       "      <th>1m^2 전용면적당 거래금액(만원)</th>\n",
       "    </tr>\n",
       "  </thead>\n",
       "  <tbody>\n",
       "    <tr>\n",
       "      <th>count</th>\n",
       "      <td>68.0</td>\n",
       "    </tr>\n",
       "    <tr>\n",
       "      <th>mean</th>\n",
       "      <td>747.0</td>\n",
       "    </tr>\n",
       "    <tr>\n",
       "      <th>std</th>\n",
       "      <td>290.0</td>\n",
       "    </tr>\n",
       "    <tr>\n",
       "      <th>min</th>\n",
       "      <td>393.0</td>\n",
       "    </tr>\n",
       "    <tr>\n",
       "      <th>25%</th>\n",
       "      <td>576.0</td>\n",
       "    </tr>\n",
       "    <tr>\n",
       "      <th>50%</th>\n",
       "      <td>624.0</td>\n",
       "    </tr>\n",
       "    <tr>\n",
       "      <th>75%</th>\n",
       "      <td>854.0</td>\n",
       "    </tr>\n",
       "    <tr>\n",
       "      <th>max</th>\n",
       "      <td>1452.0</td>\n",
       "    </tr>\n",
       "  </tbody>\n",
       "</table>\n",
       "</div>"
      ],
      "text/plain": [
       "       1m^2 전용면적당 거래금액(만원)\n",
       "count                 68.0\n",
       "mean                 747.0\n",
       "std                  290.0\n",
       "min                  393.0\n",
       "25%                  576.0\n",
       "50%                  624.0\n",
       "75%                  854.0\n",
       "max                 1452.0"
      ]
     },
     "execution_count": 4,
     "metadata": {},
     "output_type": "execute_result"
    }
   ],
   "source": [
    "df_quarterbuyprice.describe().round(0)\n"
   ]
  },
  {
   "cell_type": "code",
   "execution_count": 5,
   "metadata": {},
   "outputs": [],
   "source": [
    "#2006-2022년 아파트 매매 실거래가 분기 평균 데이터\n",
    "df_quarterbuyprice.to_csv(\n",
    "    r\"C:/seokwonna/프로젝트/apt_quarterprice_2006-2022/2006-2022_quarter_apt_buysell_average_price.csv\", encoding='utf-8')\n"
   ]
  },
  {
   "cell_type": "code",
   "execution_count": null,
   "metadata": {},
   "outputs": [],
   "source": []
  }
 ],
 "metadata": {
  "kernelspec": {
   "display_name": "base",
   "language": "python",
   "name": "python3"
  },
  "language_info": {
   "codemirror_mode": {
    "name": "ipython",
    "version": 3
   },
   "file_extension": ".py",
   "mimetype": "text/x-python",
   "name": "python",
   "nbconvert_exporter": "python",
   "pygments_lexer": "ipython3",
   "version": "3.9.13"
  },
  "orig_nbformat": 4
 },
 "nbformat": 4,
 "nbformat_minor": 2
}
