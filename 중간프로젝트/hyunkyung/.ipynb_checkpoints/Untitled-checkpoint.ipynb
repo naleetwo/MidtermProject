{
 "cells": [
  {
   "cell_type": "code",
   "execution_count": 4,
   "id": "21854393",
   "metadata": {},
   "outputs": [],
   "source": [
    "import numpy as np\n",
    "import pandas as pd\n",
    "import matplotlib.pyplot as plt\n",
    "import seaborn as sns\n",
    "\n",
    "import matplotlib.font_manager as fm\n",
    "font_name = fm.FontProperties(fname=\"C:\\\\Windows\\\\Fonts\\\\malgun.ttf\").get_name()\n",
    "plt.rc(\"font\", family=font_name)\n",
    "\n",
    "import matplotlib as mlp\n",
    "mlp.rcParams[\"axes.unicode_minus\"] = False\n",
    "\n",
    "import xml.etree.ElementTree as et\n",
    "\n",
    "import urllib.request as req\n",
    "import requests\n",
    "import json\n",
    "\n",
    "import urllib.request as req\n",
    "from urllib.error import HTTPError, URLError \n",
    "\n",
    "from bs4 import BeautifulSoup\n",
    "\n",
    "from urllib.request import urlopen\n",
    "\n",
    "from selenium import webdriver\n",
    "from selenium.webdriver.common.by import By\n",
    "from selenium.webdriver.common.keys import Keys\n",
    "import time\n",
    "import os\n",
    "import re\n",
    "\n",
    "from scipy.stats import shapiro\n",
    "from scipy import stats\n",
    "import scipy\n",
    "\n",
    "import numpy as np\n",
    "import pandas as pd\n",
    "import os\n",
    "import time\n",
    "import googlemaps\n",
    "from geopy.geocoders import Nominatim\n",
    "import requests, json, pprint"
   ]
  },
  {
   "cell_type": "code",
   "execution_count": 7,
   "id": "3a682233",
   "metadata": {},
   "outputs": [
    {
     "data": {
      "text/plain": [
       "{'meta': {'total_count': 1},\n",
       " 'documents': [{'road_address': None,\n",
       "   'address': {'address_name': '서울 종로구 종로2가 84-11',\n",
       "    'region_1depth_name': '서울',\n",
       "    'region_2depth_name': '종로구',\n",
       "    'region_3depth_name': '종로2가',\n",
       "    'mountain_yn': 'N',\n",
       "    'main_address_no': '84',\n",
       "    'sub_address_no': '11',\n",
       "    'zip_code': ''}}]}"
      ]
     },
     "execution_count": 7,
     "metadata": {},
     "output_type": "execute_result"
    }
   ],
   "source": [
    "url = \"https://dapi.kakao.com/v2/local/geo/coord2address.json?x=126.987750&y=37.569765\"\n",
    "headers = {\"Authorization\": \"KakaoAK 50164c6bb51aaadf098036960873feca\"}\n",
    "api_json = requests.get(url, headers=headers)\n",
    "full_address = json.loads(api_json.text)\n",
    "\n",
    "full_address\n",
    "\n",
    "#full_address['documents'][0]['address']['region_2depth_name']\n",
    "    \n"
   ]
  }
 ],
 "metadata": {
  "kernelspec": {
   "display_name": "Python 3 (ipykernel)",
   "language": "python",
   "name": "python3"
  },
  "language_info": {
   "codemirror_mode": {
    "name": "ipython",
    "version": 3
   },
   "file_extension": ".py",
   "mimetype": "text/x-python",
   "name": "python",
   "nbconvert_exporter": "python",
   "pygments_lexer": "ipython3",
   "version": "3.9.13"
  }
 },
 "nbformat": 4,
 "nbformat_minor": 5
}
