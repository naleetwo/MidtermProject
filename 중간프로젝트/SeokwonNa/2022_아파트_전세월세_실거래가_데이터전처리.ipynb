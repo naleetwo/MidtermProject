{
 "cells": [
  {
   "cell_type": "code",
   "execution_count": null,
   "metadata": {},
   "outputs": [],
   "source": [
    "import numpy as np\n",
    "import pandas as pd\n",
    "import matplotlib.pyplot as plt\n",
    "import seaborn as sns\n",
    "\n",
    "#matplot 한글폰트 설정\n",
    "import matplotlib.font_manager as fm\n",
    "font_name = fm.FontProperties(fname=\"C:\\Windows\\Fonts\\GULIM.TTC\").get_name()\n",
    "plt.rc(\"font\", family = font_name)\n",
    "\n",
    "import matplotlib as mlp\n",
    "mlp.rcParams[\"axes.unicode_minus\"]= False"
   ]
  },
  {
   "attachments": {},
   "cell_type": "markdown",
   "metadata": {},
   "source": [
    "## 서울 자치구별 전월세전환율 2018 - 2022년 까지의 %  dataframe 구축\n",
    "### 월세가를 아파트 전세가로 변환하여 수치를 동일화 시키기 위함\n",
    "#### 월세에서 전세 전환식 = 월세 보증금 + (월차임 * 12개월) / 지역별 전월세전환율"
   ]
  },
  {
   "attachments": {},
   "cell_type": "markdown",
   "metadata": {},
   "source": [
    "## 지역별 전월세전환율 Data source 2018~2022\n",
    "### https://kosis.kr/search/search.do"
   ]
  },
  {
   "cell_type": "code",
   "execution_count": null,
   "metadata": {},
   "outputs": [],
   "source": [
    "# 아파트 매매가격 대비 전세가격 비율 2018 - 2022\n",
    "apt_rent_rate = pd.read_csv(r\"C:/Users/acorn/OneDrive/Desktop/중간프로젝트/부동산/지역별_전월세전환율_2018-2022.csv\", encoding='euc-kr')\n",
    "apt_rent_rate.head()\n"
   ]
  },
  {
   "cell_type": "code",
   "execution_count": null,
   "metadata": {},
   "outputs": [],
   "source": [
    "#불필요한 columns 확인 - '주택유형별(1)', '지역별(1)', '지역별(2)', '지역별(3)'\n",
    "apt_rent_rate.columns\n"
   ]
  },
  {
   "cell_type": "code",
   "execution_count": null,
   "metadata": {},
   "outputs": [],
   "source": [
    "#불필요한 columns 제거 - '주택유형별(1)', '지역별(1)', '지역별(2)', '지역별(3)'\n",
    "\n",
    "apt_rent_rate.drop(columns=['주택유형별(1)', '지역별(1)',\n",
    "                   '지역별(2)', '지역별(3)'], inplace=True)\n",
    "apt_rent_rate\n"
   ]
  },
  {
   "cell_type": "code",
   "execution_count": null,
   "metadata": {},
   "outputs": [],
   "source": [
    "#시군구 column 자치구별로 변동\n",
    "apt_rent_rate.rename(columns={'지역별(4)': '자치구별'}, inplace=True)\n",
    "apt_rent_rate.head()\n"
   ]
  },
  {
   "cell_type": "code",
   "execution_count": null,
   "metadata": {},
   "outputs": [],
   "source": [
    "#자치구별 column에서 소계 확인\n",
    "apt_rent_rate['자치구별'].unique()\n"
   ]
  },
  {
   "cell_type": "code",
   "execution_count": null,
   "metadata": {},
   "outputs": [],
   "source": [
    "#자치구별 column에서 소계가 포함된 행 제거\n",
    "apt_rent_rate = apt_rent_rate[apt_rent_rate['자치구별'] != '소계']\n",
    "apt_rent_rate.head()\n"
   ]
  },
  {
   "cell_type": "code",
   "execution_count": null,
   "metadata": {},
   "outputs": [],
   "source": [
    "#데이터프레임 인덱스 리셋\n",
    "apt_rent_rate.reset_index(drop=True, inplace=True)\n",
    "apt_rent_rate.head()\n"
   ]
  },
  {
   "cell_type": "code",
   "execution_count": null,
   "metadata": {},
   "outputs": [],
   "source": [
    "#'자치구별' column value에 '구' 추가해서 자치구 이름 변경\n",
    "addname = apt_rent_rate['자치구별'].unique()\n",
    "\n",
    "#for 구문으로 '자치구별' value에 '구'추가해주기\n",
    "addname_gu = [name + '구' for name in addname]\n",
    "apt_rent_rate['자치구별'] = addname_gu\n",
    "\n",
    "#결과확인\n",
    "apt_rent_rate.head()\n"
   ]
  },
  {
   "cell_type": "code",
   "execution_count": null,
   "metadata": {},
   "outputs": [],
   "source": [
    "apt_rent_rate.columns.unique()\n"
   ]
  },
  {
   "cell_type": "code",
   "execution_count": null,
   "metadata": {},
   "outputs": [],
   "source": [
    "#save point 데이터 저장하기\n",
    "apt_rent_rate.to_csv(\n",
    "    r\"C:/Users/acorn/OneDrive/Desktop/중간프로젝트/부동산/자치구별_전월세전환율_2018-2022.csv\", encoding='utf-8')\n"
   ]
  },
  {
   "cell_type": "code",
   "execution_count": null,
   "metadata": {},
   "outputs": [],
   "source": [
    "#데이터 불러와서 재확인\n",
    "df = pd.read_csv(r\"C:/Users/acorn/OneDrive/Desktop/중간프로젝트/부동산/자치구별_전월세전환율_2018-2022.csv\", encoding='utf-8',index_col=0)\n",
    "df.head()"
   ]
  },
  {
   "cell_type": "code",
   "execution_count": null,
   "metadata": {},
   "outputs": [],
   "source": [
    "# 2018~2022년도별로 월별 전월세전환율 데이터프레임 생성하여 CSV 파일로 저장\n",
    "import os\n",
    "\n",
    "for year in range(2018, 2023):\n",
    "    year_cols = [col for col in df.columns if col.startswith(str(year) + \".\")]\n",
    "    year_df = df[['자치구별'] + year_cols]\n",
    "\n",
    "    # 폴더가 없으면 생성\n",
    "    path = \"C:/Users/acorn/OneDrive/Desktop/중간프로젝트/부동산\"\n",
    "    if not os.path.exists(path):\n",
    "        os.makedirs(path)\n",
    "\n",
    "    # 파일 저장\n",
    "    year_df.to_csv(f\"{path}/자치구별_전월세전환율_{year}.csv\", index=False)\n"
   ]
  },
  {
   "cell_type": "code",
   "execution_count": null,
   "metadata": {},
   "outputs": [],
   "source": [
    "df.head()"
   ]
  },
  {
   "attachments": {},
   "cell_type": "markdown",
   "metadata": {},
   "source": [
    "# 아파트 전세, 월세 실거래가 전처리"
   ]
  },
  {
   "cell_type": "code",
   "execution_count": null,
   "metadata": {},
   "outputs": [],
   "source": [
    "#아파트 전세,월세 실거래가 가져오기 및 필요없는 행 제거\n",
    "rent_df = pd.read_csv(\n",
    "    r\"C:/Users/acorn/OneDrive/Desktop/중간프로젝트/부동산/아파트(전월세)_실거래가_2022_국토교통부.csv\", encoding='euc-kr',\n",
    "    skiprows=15)\n",
    "rent_df.head()\n"
   ]
  },
  {
   "cell_type": "code",
   "execution_count": null,
   "metadata": {},
   "outputs": [],
   "source": [
    "rent_df['계약년월'] = rent_df['계약년월'].astype(\n",
    "    str).apply(lambda x: x[:4] + '.' + x[4:6])\n",
    "rent_df.info()\n",
    "rent_df['계약년월']\n"
   ]
  },
  {
   "cell_type": "code",
   "execution_count": null,
   "metadata": {},
   "outputs": [],
   "source": [
    "rent_df.head()"
   ]
  },
  {
   "cell_type": "code",
   "execution_count": null,
   "metadata": {},
   "outputs": [],
   "source": [
    "#데이터 프레임 카피 만들기\n",
    "df1 = rent_df.copy()\n",
    "df1.head()"
   ]
  },
  {
   "attachments": {},
   "cell_type": "markdown",
   "metadata": {},
   "source": [
    "# 전세, 월세 아파트 전세가로 수치변환\n",
    "### 아파트 전세 가격일 경우 그대로 전세가로 사용함\n",
    "### 아파트 월세 가격일 경우\n",
    "#### 월세를 전세가격으로 변환 후 전세가격\n",
    "#### 보증금 + (월세 * 12개월) / 자치구별 전월세변환율 = 월세가격 변환"
   ]
  },
  {
   "cell_type": "code",
   "execution_count": null,
   "metadata": {},
   "outputs": [],
   "source": [
    "df1.columns"
   ]
  },
  {
   "cell_type": "code",
   "execution_count": null,
   "metadata": {},
   "outputs": [],
   "source": [
    "df1.isnull().sum()\n",
    "df1.info()\n",
    "df1.head()"
   ]
  },
  {
   "cell_type": "code",
   "execution_count": null,
   "metadata": {},
   "outputs": [],
   "source": [
    "df1.head()"
   ]
  },
  {
   "cell_type": "code",
   "execution_count": null,
   "metadata": {},
   "outputs": [],
   "source": [
    "# 보증금(만원)과 월세(만원) column을 숫자형으로 변환\n",
    "df1['보증금(만원)'] = df1['보증금(만원)'].str.replace(',', '').astype(int)\n",
    "\n"
   ]
  },
  {
   "cell_type": "code",
   "execution_count": null,
   "metadata": {},
   "outputs": [],
   "source": [
    "df1['월세(만원)'].isnull().sum()\n"
   ]
  },
  {
   "cell_type": "code",
   "execution_count": null,
   "metadata": {},
   "outputs": [],
   "source": [
    "#월세 결측치 처리\n",
    "df1['월세(만원)'] = df1['월세(만원)'].str.replace(',','').fillna(0).astype(int)\n"
   ]
  },
  {
   "cell_type": "code",
   "execution_count": null,
   "metadata": {},
   "outputs": [],
   "source": [
    "df1.info()"
   ]
  },
  {
   "cell_type": "code",
   "execution_count": null,
   "metadata": {},
   "outputs": [],
   "source": [
    "#월세와 보증금 모두 0인 데이터 확인\n",
    "zero_rent_deposit_count = ((df1['월세(만원)'] == 0) & (df1['보증금(만원)'] == 0)).sum()\n",
    "print(\"월세와 보증금 모두 0인 데이터 개수:\", zero_rent_deposit_count)\n"
   ]
  },
  {
   "cell_type": "code",
   "execution_count": null,
   "metadata": {},
   "outputs": [],
   "source": [
    "a = df1['보증금(만원)'].isna().sum()\n",
    "b = df1['월세(만원)'].isna().sum()\n",
    "print(a, b)\n"
   ]
  },
  {
   "cell_type": "code",
   "execution_count": null,
   "metadata": {},
   "outputs": [],
   "source": [
    "#월세와 보증금 모두 0 인 데이터 제거\n",
    "df1 = df1[(df1['보증금(만원)'] != 0) | (df1['월세(만원)'] != 0)]\n",
    "df1"
   ]
  },
  {
   "cell_type": "code",
   "execution_count": null,
   "metadata": {},
   "outputs": [],
   "source": [
    "#월세와 보증금 모두 0인 데이터 확인\n",
    "zero_rent_deposit_count = ((df1['월세(만원)'] == 0) & (df1['보증금(만원)'] == 0)).sum()\n",
    "print(\"월세와 보증금 모두 0인 데이터 개수:\", zero_rent_deposit_count)\n"
   ]
  },
  {
   "cell_type": "code",
   "execution_count": null,
   "metadata": {},
   "outputs": [],
   "source": [
    "#리스트 결측치 채워넣기, 확인\n",
    "df1.index = range(len(df1))\n",
    "df1\n"
   ]
  },
  {
   "cell_type": "code",
   "execution_count": null,
   "metadata": {},
   "outputs": [],
   "source": [
    "df1.info()"
   ]
  },
  {
   "cell_type": "code",
   "execution_count": null,
   "metadata": {},
   "outputs": [],
   "source": [
    "# 컬럼의 순서(위치) 바꾸기\n",
    "cols = ['시군구', '전용면적(㎡)', '계약년월', '전월세구분', '보증금(만원)', '월세(만원)']\n",
    "df2 = pd.DataFrame(df1, columns = cols)\n",
    "df2\n"
   ]
  },
  {
   "cell_type": "code",
   "execution_count": null,
   "metadata": {},
   "outputs": [],
   "source": [
    "#시군구 column 자치구별로 변동\n",
    "df2.rename(columns = {'시군구':'자치구별'}, inplace = True)"
   ]
  },
  {
   "cell_type": "code",
   "execution_count": null,
   "metadata": {},
   "outputs": [],
   "source": [
    "#자치구별 주소 구로만 가져오기\n",
    "df2['자치구별'] = df2['자치구별'].str.split().str[1]\n",
    "df2\n"
   ]
  },
  {
   "cell_type": "code",
   "execution_count": null,
   "metadata": {},
   "outputs": [],
   "source": [
    "fig = sns.pairplot(data=df2)\n",
    "fig.fig.set_size_inches (10, 10)\n",
    "plt.show()\n"
   ]
  },
  {
   "cell_type": "code",
   "execution_count": null,
   "metadata": {},
   "outputs": [],
   "source": [
    "plt.figure(figsize=(20, 10))\n",
    "sns.boxplot(x='자치구별', y='보증금(만원)', hue='전월세구분', data=df2)\n",
    "plt.show()"
   ]
  },
  {
   "cell_type": "code",
   "execution_count": null,
   "metadata": {},
   "outputs": [],
   "source": [
    "\n"
   ]
  },
  {
   "cell_type": "code",
   "execution_count": null,
   "metadata": {},
   "outputs": [],
   "source": [
    "#이상치 확인시 df1 불러와서 data detail 보고 df2\n",
    "df2[df2['자치구별'] == \"용산구\"].sort_values(by='보증금(만원)', ascending=False)\n",
    "#df1\n",
    "df1[df1['보증금(만원)']==490000]\n"
   ]
  },
  {
   "cell_type": "code",
   "execution_count": null,
   "metadata": {},
   "outputs": [],
   "source": [
    "plt.figure(figsize=(25, 10))\n",
    "sns.boxplot(x='계약년월', y='보증금(만원)', hue='전월세구분', data=df2)\n",
    "plt.show()\n"
   ]
  },
  {
   "cell_type": "code",
   "execution_count": null,
   "metadata": {},
   "outputs": [],
   "source": [
    "#2019년 전환율 불러오기\n",
    "check_1 = pd.read_csv(\n",
    "    r\"C:/Users/acorn/OneDrive/Desktop/중간프로젝트/부동산/자치구별_전월세전환율_2022.csv\")\n",
    "check_1\n"
   ]
  },
  {
   "cell_type": "code",
   "execution_count": null,
   "metadata": {},
   "outputs": [],
   "source": [
    "check_1.set_index('자치구별', inplace = True)\n"
   ]
  },
  {
   "cell_type": "code",
   "execution_count": null,
   "metadata": {},
   "outputs": [],
   "source": [
    "check_1.info()\n"
   ]
  },
  {
   "cell_type": "code",
   "execution_count": null,
   "metadata": {},
   "outputs": [],
   "source": [
    "df2\n",
    "df2.info()"
   ]
  },
  {
   "cell_type": "code",
   "execution_count": null,
   "metadata": {},
   "outputs": [],
   "source": [
    "try:\n",
    "    result = check_1[df2.loc[0]['계약년월']][df2.loc[0]['자치구별']]\n",
    "except KeyError as e:\n",
    "    # KeyError 발생 시 처리할 코드 작성\n",
    "    print(f\"KeyError 발생: {e}\")\n",
    "else:\n",
    "    # 정상적으로 결과가 반환된 경우 처리할 코드 작성\n",
    "    print(result)\n"
   ]
  },
  {
   "cell_type": "code",
   "execution_count": null,
   "metadata": {},
   "outputs": [],
   "source": [
    "#확인용\n",
    "check_1[df2.loc[0]['계약년월']][df2.loc[0]['자치구별']]\n"
   ]
  },
  {
   "cell_type": "code",
   "execution_count": null,
   "metadata": {},
   "outputs": [],
   "source": [
    "df2.info()"
   ]
  },
  {
   "cell_type": "code",
   "execution_count": null,
   "metadata": {},
   "outputs": [],
   "source": [
    "#자치구별, 계약연도월 전월세전환비율을 df2 row에 추가\n",
    "for i in range(len(df2)):\n",
    "    df2.loc[i, '전월세변환율'] = check_1[df2.loc[i]['계약년월']][df2.loc[i]['자치구별']]\n",
    "    #print(check_1[df2.loc[i]['계약년월']][df2.loc[i]['자치구별']])\n",
    "    print(i)\n"
   ]
  },
  {
   "cell_type": "code",
   "execution_count": null,
   "metadata": {},
   "outputs": [],
   "source": [
    "df2\n"
   ]
  },
  {
   "cell_type": "code",
   "execution_count": null,
   "metadata": {},
   "outputs": [],
   "source": [
    "check_1"
   ]
  },
  {
   "cell_type": "code",
   "execution_count": null,
   "metadata": {},
   "outputs": [],
   "source": [
    "#plt.hist(df2['거래금액(만원)'], bins=30)\n",
    "\n",
    "sns.distplot(df1['보증금(만원)'], bins = 50)\n",
    "\n",
    "plt.show()\n"
   ]
  },
  {
   "cell_type": "code",
   "execution_count": null,
   "metadata": {},
   "outputs": [],
   "source": [
    "sns.distplot(df1['월세(만원)'], bins=30)\n",
    "plt.show()"
   ]
  },
  {
   "cell_type": "code",
   "execution_count": null,
   "metadata": {},
   "outputs": [],
   "source": [
    "df2"
   ]
  },
  {
   "cell_type": "code",
   "execution_count": null,
   "metadata": {},
   "outputs": [],
   "source": [
    "#월세,전세변환금 = 보증금(만원) + (월세(만원) * 12개월) / 지역별 전월세전환율\n",
    "# 거래금액(만원) 데이터 변환\n",
    "\n",
    "df2[\"거래금액(만원)\"] = (df2[\"보증금(만원)\"] + (df2[\"월세(만원)\"]*12)/df2[\"전월세변환율\"]).round(0)\n",
    "\n",
    "df2\n"
   ]
  },
  {
   "cell_type": "code",
   "execution_count": null,
   "metadata": {},
   "outputs": [],
   "source": [
    "check_1"
   ]
  },
  {
   "cell_type": "code",
   "execution_count": null,
   "metadata": {},
   "outputs": [],
   "source": [
    "# 전용면적당 거래금액(만원)\n",
    "df2['1m^2 전용면적당 거래금액(만원)'] = (df2['거래금액(만원)'] / df2['전용면적(㎡)']).astype(int)\n",
    "df2.head()\n"
   ]
  },
  {
   "cell_type": "code",
   "execution_count": null,
   "metadata": {},
   "outputs": [],
   "source": [
    "df2.info()"
   ]
  },
  {
   "cell_type": "code",
   "execution_count": null,
   "metadata": {},
   "outputs": [],
   "source": [
    "#계약년월 -> 계약연도, 계약월로 나누기\n",
    "df2['계약년월'] = df2['계약년월'].str.replace(\".\", \"\").astype(int)\n",
    "df2['계약연도'] = df2['계약년월'] // 100\n",
    "df2['계약월'] = df2['계약년월'] % 100\n"
   ]
  },
  {
   "cell_type": "code",
   "execution_count": null,
   "metadata": {},
   "outputs": [],
   "source": [
    "df2.head()"
   ]
  },
  {
   "cell_type": "code",
   "execution_count": null,
   "metadata": {},
   "outputs": [],
   "source": [
    "#중간포인트 저장\n",
    "df2.to_csv(\n",
    "    r\"C:/seokwonna/프로젝트/save_point2_apt_rent_2022_data.csv\", encoding='utf-8')\n"
   ]
  },
  {
   "cell_type": "code",
   "execution_count": null,
   "metadata": {},
   "outputs": [],
   "source": [
    "df2 = pd.read_csv(r\"C:/seokwonna/프로젝트/save_point2_apt_rent_2022_data.csv\", index_col = 0)\n",
    "df2\n"
   ]
  },
  {
   "cell_type": "code",
   "execution_count": null,
   "metadata": {},
   "outputs": [],
   "source": [
    "df2.columns\n",
    "df2.info()"
   ]
  },
  {
   "cell_type": "code",
   "execution_count": null,
   "metadata": {},
   "outputs": [],
   "source": [
    "# 컬럼의 순서(위치) 바꾸기\n",
    "cols = ['자치구별', '계약연도', '계약월', '전월세구분',\n",
    "        '전용면적(㎡)','거래금액(만원)', '1m^2 전용면적당 거래금액(만원)']\n",
    "df3 = pd.DataFrame(df2, columns=cols)\n",
    "df3\n"
   ]
  },
  {
   "cell_type": "code",
   "execution_count": null,
   "metadata": {},
   "outputs": [],
   "source": [
    "#group_by 사용해서 자치구별 + 계약년월 대비 전용면적당 거래금액(만원) 평균 df으로 구성\n",
    "df4 = df3.groupby([df3.자치구별, df3.계약월]).mean().round(0)\n",
    "df4\n",
    "\n"
   ]
  },
  {
   "cell_type": "code",
   "execution_count": null,
   "metadata": {},
   "outputs": [],
   "source": [
    "unique_values = df3['자치구별'].unique()\n",
    "print(unique_values)\n",
    "print(unique_values.size)\n"
   ]
  },
  {
   "cell_type": "code",
   "execution_count": null,
   "metadata": {},
   "outputs": [],
   "source": [
    "#자치구 월별 매매된 평균 아파트 매매가, 1m^2 전용면적당 평균가\n",
    "df4.to_csv(r\"C:/seokwonna/프로젝트/save_point3_apt_rent_2022_data.csv\", encoding='utf-8')\n"
   ]
  },
  {
   "cell_type": "code",
   "execution_count": null,
   "metadata": {},
   "outputs": [],
   "source": [
    "df5 = df3.groupby([df3.자치구별]).mean().round(0)\n",
    "df5\n"
   ]
  },
  {
   "cell_type": "code",
   "execution_count": null,
   "metadata": {},
   "outputs": [],
   "source": [
    "#서울시 수치화된 데이터 평균가 추가\n",
    "df5.loc['평균'] = df5.mean().round(0)\n",
    "df5\n"
   ]
  },
  {
   "cell_type": "code",
   "execution_count": null,
   "metadata": {},
   "outputs": [],
   "source": [
    "#2018년 자치구별 매매된 평균 아파트 전세 및 월세가, 1m^2 전용면적당 평균가\n",
    "df5.to_csv(\n",
    "    r\"C:/seokwonna/프로젝트/save_point4_apt_rent_2022_data.csv\", encoding='utf-8')\n"
   ]
  },
  {
   "cell_type": "code",
   "execution_count": null,
   "metadata": {},
   "outputs": [],
   "source": [
    "#데이터 불러와서 확인하기\n",
    "check_1 = pd.read_csv(r\"C:/seokwonna/프로젝트/save_point3_apt_rent_2022_data.csv\", encoding='utf-8')\n",
    "check_2 = pd.read_csv(r\"C:/seokwonna/프로젝트/save_point4_apt_rent_2022_data.csv\", encoding='utf-8')"
   ]
  },
  {
   "cell_type": "code",
   "execution_count": null,
   "metadata": {},
   "outputs": [],
   "source": [
    "check_1"
   ]
  },
  {
   "cell_type": "code",
   "execution_count": null,
   "metadata": {},
   "outputs": [],
   "source": [
    "#계약월 데이터 무시하세요\n",
    "check_2"
   ]
  },
  {
   "cell_type": "code",
   "execution_count": null,
   "metadata": {},
   "outputs": [],
   "source": []
  }
 ],
 "metadata": {
  "kernelspec": {
   "display_name": "base",
   "language": "python",
   "name": "python3"
  },
  "language_info": {
   "codemirror_mode": {
    "name": "ipython",
    "version": 3
   },
   "file_extension": ".py",
   "mimetype": "text/x-python",
   "name": "python",
   "nbconvert_exporter": "python",
   "pygments_lexer": "ipython3",
   "version": "3.9.13"
  },
  "orig_nbformat": 4
 },
 "nbformat": 4,
 "nbformat_minor": 2
}
