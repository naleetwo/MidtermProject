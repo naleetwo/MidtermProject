{
 "cells": [
  {
   "cell_type": "code",
   "execution_count": 1,
   "id": "ecd0dd5c",
   "metadata": {},
   "outputs": [],
   "source": [
    "import matplotlib.pyplot as plt\n",
    "import numpy as np\n",
    "import pandas as pd\n",
    "import seaborn as sns\n",
    "\n",
    " \n",
    "import matplotlib.font_manager as fm                                  # 한글을 불러올 수 있게 하는 코드\n",
    "font_name = fm.FontProperties(fname=\"C:\\\\Windows\\\\Fonts\\\\malgun.ttf\").get_name()\n",
    "plt.rc(\"font\", family=font_name)\n",
    " \n",
    "import matplotlib as mlp                                              #  - 를 읽어 올 수 있게 하는 코드\n",
    "mlp.rcParams[\"axes.unicode_minus\"] = False "
   ]
  },
  {
   "cell_type": "code",
   "execution_count": 2,
   "id": "9cc7d928",
   "metadata": {},
   "outputs": [],
   "source": [
    "import xml.etree.ElementTree as et\n",
    "import urllib.request as req\n",
    "import requests\n",
    "import urllib.request as req\n",
    "from urllib.error import HTTPError, URLError\n",
    "import bs4\n",
    "from bs4 import BeautifulSoup \n",
    "from urllib.request import urlopen\n",
    "from bs4 import BeautifulSoup\n",
    "import time\n",
    "from tqdm import tqdm_notebook\n",
    "import folium\n",
    "import googlemaps\n",
    "from selenium import webdriver\n",
    "from selenium.webdriver.common.by import By\n",
    "from selenium.webdriver.common.keys import Keys\n",
    "from glob import glob"
   ]
  },
  {
   "cell_type": "code",
   "execution_count": 3,
   "id": "1362b62c",
   "metadata": {},
   "outputs": [
    {
     "name": "stderr",
     "output_type": "stream",
     "text": [
      "C:\\Users\\owner\\AppData\\Local\\Temp\\ipykernel_5340\\4252791956.py:1: DeprecationWarning: executable_path has been deprecated, please pass in a Service object\n",
      "  driver = webdriver.Chrome(\"C:\\\\maenuk\\\\chromedriver\")\n"
     ]
    }
   ],
   "source": [
    "driver = webdriver.Chrome(\"C:\\\\maenuk\\\\chromedriver\")\n",
    "url = 'https://ko.wikipedia.org/wiki/%EC%84%9C%EC%9A%B8%ED%8A%B9%EB%B3%84%EC%8B%9C%EC%9D%98_%EB%8C%80%ED%95%99_%EB%AA%A9%EB%A1%9D'\n",
    "driver.get(url)"
   ]
  },
  {
   "cell_type": "code",
   "execution_count": 4,
   "id": "2508690d",
   "metadata": {},
   "outputs": [],
   "source": [
    "list=driver.find_element(By.XPATH,'//*[@id=\"mw-content-text\"]/div[1]/table[1]/tbody').text.split(\"\\n\")"
   ]
  },
  {
   "cell_type": "code",
   "execution_count": 5,
   "id": "f59f77b9",
   "metadata": {},
   "outputs": [
    {
     "data": {
      "text/plain": [
       "['가톨릭대학교 사립 종로구(성신교정), 서초구(성의교정) 3캠퍼스, 9대학, 14대학원 경기도 소재',\n",
       " '감리교신학대학교 사립 서대문구 1캠퍼스, 1대학, 3대학원',\n",
       " '건국대학교 사립 광진구 1캠퍼스, 11대학, 12대학원',\n",
       " '경기대학교 사립 서대문구 2캠퍼스, 5대학, 10대학원 경기도 소재',\n",
       " '경희대학교 사립 동대문구 3캠퍼스, 24대학, 14대학원',\n",
       " '고려대학교 사립 성북구 1캠퍼스, 12대학, 19대학원',\n",
       " '광운대학교 사립 노원구 1캠퍼스, 7대학, 7대학원',\n",
       " '국민대학교 사립 성북구 1캠퍼스, 14대학, 15대학원',\n",
       " '강서대학교 사립 강서구 1캠퍼스, 1대학, 4대학원',\n",
       " '덕성여자대학교 사립 도봉구 1캠퍼스, 6대학, 3대학원',\n",
       " '동국대학교 사립 중구 2캠퍼스, 13대학, 11대학원',\n",
       " '동덕여자대학교 사립 성북구 1캠퍼스, 9대학, 7대학원',\n",
       " '명지대학교 사립 서대문구 2캠퍼스, 10대학, 9대학원 경기도 소재',\n",
       " '삼육대학교 사립 노원구 1캠퍼스, 8대학, 4대학원',\n",
       " '상명대학교 사립 종로구 2캠퍼스, 5대학, 5대학원',\n",
       " '서강대학교 사립 마포구 1캠퍼스, 1대학, 12대학원',\n",
       " '서경대학교 사립 성북구 1캠퍼스, 5대학, 3대학원',\n",
       " '서울한영대학교 사립 구로구 1캠퍼스, 1대학, 3대학원',\n",
       " '서울대학교 국립대 법인 관악구(관악캠퍼스), 종로구(연건캠퍼스) 3캠퍼스, 16대학, 11대학원',\n",
       " '서울여자대학교 사립 노원구(노원캠퍼스), 종로구(대학로캠퍼스) 1캠퍼스, 7대학, 4대학원',\n",
       " '서울과학기술대학교 국립 노원구 1캠퍼스, 6대학, 7대학원',\n",
       " '서울기독대학교 사립 은평구 1캠퍼스, 1대학, 6대학원',\n",
       " '서울시립대학교 공립 동대문구 1캠퍼스, 8대학, 10대학원',\n",
       " '성공회대학교 사립 구로구 1캠퍼스, 1대학, 7대학원',\n",
       " '성균관대학교 사립 종로구 2캠퍼스, 16대학, 21대학원',\n",
       " '성신여자대학교 사립 도봉구(수정캠퍼스), 성북구(운정캠퍼스) 1캠퍼스, 10대학, 5대학원',\n",
       " '세종대학교 사립 광진구 1캠퍼스, 11대학, 7대학원',\n",
       " '숙명여자대학교 사립 용산구 1캠퍼스, 11대학, 10대학원',\n",
       " '숭실대학교 사립 동작구 1캠퍼스, 9대학, 8대학원',\n",
       " '연세대학교 사립 서대문구 2캠퍼스, 17대학, 17대학원',\n",
       " '육군사관학교 국립 노원구 1캠퍼스, 1대학 -대학원 사관학교',\n",
       " '이화여자대학교 사립 서대문구 1캠퍼스, 13대학, 14대학원',\n",
       " '장로회신학대학교 사립 광진구 1캠퍼스, 1대학, 6대학원',\n",
       " '중앙대학교 사립 동작구 2캠퍼스, 15대학, 16대학원',\n",
       " '총신대학교 사립 동작구 2캠퍼스, 1대학, 8대학원',\n",
       " '추계예술대학교 사립 서대문구 1캠퍼스, 3대학, 3대학원',\n",
       " '한국성서대학교 사립 노원구 1캠퍼스, 1대학, 4대학원',\n",
       " '한국외국어대학교 사립 동대문구 2캠퍼스, 18대학, 9대학원',\n",
       " '한성대학교 사립 성북구 1캠퍼스, 4대학, 8대학원',\n",
       " '한양대학교 사립 성동구 1캠퍼스, 13대학, 16대학원',\n",
       " '한신대학교 사립 강북구 2캠퍼스, 5대학, 8대학원 경기도 소재',\n",
       " '호서대학교 사립 서초구 2캠퍼스, 8대학 충청남도 소재',\n",
       " '홍익대학교 사립 마포구 2캠퍼스, 11대학, 14대학원',\n",
       " '한국과학기술원 특별법법인 동대문구(홍릉캠퍼스), 강남구(도곡캠퍼스) 2캠퍼스, 5대학, 1대학원 대전광역시 소재',\n",
       " '한국체육대학교 국립 송파구 1캠퍼스, 2대학, 3대학원']"
      ]
     },
     "execution_count": 5,
     "metadata": {},
     "output_type": "execute_result"
    }
   ],
   "source": [
    "list"
   ]
  },
  {
   "cell_type": "code",
   "execution_count": 6,
   "id": "5348bca1",
   "metadata": {},
   "outputs": [],
   "source": [
    "import re"
   ]
  },
  {
   "cell_type": "code",
   "execution_count": 7,
   "id": "dd984739",
   "metadata": {},
   "outputs": [],
   "source": [
    "location=[]\n",
    "for i in list:\n",
    "    pattern1=\"[가-힇]+구\"  \n",
    "    result=re.findall(pattern1,i)\n",
    "    if len(result)== 2 : \n",
    "        location.append(result[0])\n",
    "        location.append(result[1])\n",
    "    else:\n",
    "        location.append(result[0])"
   ]
  },
  {
   "cell_type": "code",
   "execution_count": 8,
   "id": "355d3763",
   "metadata": {},
   "outputs": [
    {
     "data": {
      "text/plain": [
       "50"
      ]
     },
     "execution_count": 8,
     "metadata": {},
     "output_type": "execute_result"
    }
   ],
   "source": [
    "len(location)"
   ]
  },
  {
   "cell_type": "code",
   "execution_count": 36,
   "id": "a67d236f",
   "metadata": {},
   "outputs": [
    {
     "data": {
      "text/plain": [
       "['종로구',\n",
       " '서초구',\n",
       " '서대문구',\n",
       " '광진구',\n",
       " '서대문구',\n",
       " '동대문구',\n",
       " '성북구',\n",
       " '노원구',\n",
       " '성북구',\n",
       " '강서구',\n",
       " '도봉구',\n",
       " '중구',\n",
       " '성북구',\n",
       " '서대문구',\n",
       " '노원구',\n",
       " '종로구',\n",
       " '마포구',\n",
       " '성북구',\n",
       " '구로구',\n",
       " '관악구',\n",
       " '종로구',\n",
       " '노원구',\n",
       " '종로구',\n",
       " '노원구',\n",
       " '은평구',\n",
       " '동대문구',\n",
       " '구로구',\n",
       " '종로구',\n",
       " '도봉구',\n",
       " '성북구',\n",
       " '광진구',\n",
       " '용산구',\n",
       " '동작구',\n",
       " '서대문구',\n",
       " '노원구',\n",
       " '서대문구',\n",
       " '광진구',\n",
       " '동작구',\n",
       " '동작구',\n",
       " '서대문구',\n",
       " '노원구',\n",
       " '동대문구',\n",
       " '성북구',\n",
       " '성동구',\n",
       " '강북구',\n",
       " '서초구',\n",
       " '마포구',\n",
       " '동대문구',\n",
       " '강남구',\n",
       " '송파구']"
      ]
     },
     "execution_count": 36,
     "metadata": {},
     "output_type": "execute_result"
    }
   ],
   "source": [
    "location"
   ]
  },
  {
   "cell_type": "code",
   "execution_count": 12,
   "id": "368d7ab3",
   "metadata": {},
   "outputs": [],
   "source": [
    "list2=driver.find_element(By.XPATH,'//*[@id=\"mw-content-text\"]/div[1]/table[2]/tbody/tr/td[3]').text.split(\"\\n\")"
   ]
  },
  {
   "cell_type": "code",
   "execution_count": 13,
   "id": "49028e89",
   "metadata": {},
   "outputs": [],
   "source": [
    "location.append(list2[0])"
   ]
  },
  {
   "cell_type": "code",
   "execution_count": 14,
   "id": "6ecb03e1",
   "metadata": {
    "scrolled": true
   },
   "outputs": [
    {
     "data": {
      "text/plain": [
       "['종로구',\n",
       " '서초구',\n",
       " '서대문구',\n",
       " '광진구',\n",
       " '서대문구',\n",
       " '동대문구',\n",
       " '성북구',\n",
       " '노원구',\n",
       " '성북구',\n",
       " '강서구',\n",
       " '도봉구',\n",
       " '중구',\n",
       " '성북구',\n",
       " '서대문구',\n",
       " '노원구',\n",
       " '종로구',\n",
       " '마포구',\n",
       " '성북구',\n",
       " '구로구',\n",
       " '관악구',\n",
       " '종로구',\n",
       " '노원구',\n",
       " '종로구',\n",
       " '노원구',\n",
       " '은평구',\n",
       " '동대문구',\n",
       " '구로구',\n",
       " '종로구',\n",
       " '도봉구',\n",
       " '성북구',\n",
       " '광진구',\n",
       " '용산구',\n",
       " '동작구',\n",
       " '서대문구',\n",
       " '노원구',\n",
       " '서대문구',\n",
       " '광진구',\n",
       " '동작구',\n",
       " '동작구',\n",
       " '서대문구',\n",
       " '노원구',\n",
       " '동대문구',\n",
       " '성북구',\n",
       " '성동구',\n",
       " '강북구',\n",
       " '서초구',\n",
       " '마포구',\n",
       " '동대문구',\n",
       " '강남구',\n",
       " '송파구',\n",
       " '서초구',\n",
       " '서초구']"
      ]
     },
     "execution_count": 14,
     "metadata": {},
     "output_type": "execute_result"
    }
   ],
   "source": [
    "location"
   ]
  },
  {
   "cell_type": "code",
   "execution_count": 15,
   "id": "44c42c53",
   "metadata": {},
   "outputs": [],
   "source": [
    "list3=driver.find_element(By.XPATH,'//*[@id=\"mw-content-text\"]/div[1]/table[3]').text.split(\"\\n\")"
   ]
  },
  {
   "cell_type": "code",
   "execution_count": 16,
   "id": "499c556b",
   "metadata": {},
   "outputs": [
    {
     "data": {
      "text/plain": [
       "['이름 설립 유형 위치 비고',\n",
       " '동양미래대학교 사립 구로구',\n",
       " '명지전문대학 사립 서대문구',\n",
       " '배화여자대학교 사립 종로구',\n",
       " '삼육보건대학교 사립 동대문구',\n",
       " '서울여자간호대학교 사립 서대문구',\n",
       " '서일대학교 사립 중랑구',\n",
       " '숭의여자대학교 사립 중구',\n",
       " '인덕대학교 사립 노원구',\n",
       " '한국폴리텍I대학 사립 용산구(정수캠퍼스), 강서구(강서캠퍼스) 기능대학',\n",
       " '한양여자대학교 사립 성동구']"
      ]
     },
     "execution_count": 16,
     "metadata": {},
     "output_type": "execute_result"
    }
   ],
   "source": [
    "list3"
   ]
  },
  {
   "cell_type": "code",
   "execution_count": 18,
   "id": "ad12647b",
   "metadata": {},
   "outputs": [
    {
     "name": "stdout",
     "output_type": "stream",
     "text": [
      "No matching pattern found in string: 이름 설립 유형 위치 비고\n"
     ]
    }
   ],
   "source": [
    "for i in list3:\n",
    "    pattern1=\"[가-힇]+구\"\n",
    "    result=re.findall(pattern1,i)\n",
    "    if len(result) == 0: # 매칭되는 패턴이 없는 경우 오류 메시지 출력\n",
    "        print(\"No matching pattern found in string: {}\".format(i))\n",
    "    elif len(result)== 2 : \n",
    "        location.append(result[0])\n",
    "        location.append(result[1])\n",
    "    else:\n",
    "        location.append(result[0])"
   ]
  },
  {
   "cell_type": "code",
   "execution_count": 19,
   "id": "c70f6a47",
   "metadata": {},
   "outputs": [
    {
     "data": {
      "text/plain": [
       "63"
      ]
     },
     "execution_count": 19,
     "metadata": {},
     "output_type": "execute_result"
    }
   ],
   "source": [
    "len(location)"
   ]
  },
  {
   "cell_type": "code",
   "execution_count": 22,
   "id": "c64ff84b",
   "metadata": {},
   "outputs": [],
   "source": [
    "list4=driver.find_element(By.XPATH,'//*[@id=\"mw-content-text\"]/div[1]/table[4]').text.split(\"\\n\")"
   ]
  },
  {
   "cell_type": "code",
   "execution_count": 23,
   "id": "d57bfe1a",
   "metadata": {},
   "outputs": [
    {
     "name": "stdout",
     "output_type": "stream",
     "text": [
      "No matching pattern found in string: 이름 설립 유형 위치 비고\n"
     ]
    }
   ],
   "source": [
    "for i in list4:\n",
    "    pattern1=\"[가-힇]+구\"\n",
    "    result=re.findall(pattern1,i)\n",
    "    if len(result) == 0: # 매칭되는 패턴이 없는 경우 오류 메시지 출력\n",
    "        print(\"No matching pattern found in string: {}\".format(i))\n",
    "    elif len(result)== 2 : \n",
    "        location.append(result[0])\n",
    "        location.append(result[1])\n",
    "    else:\n",
    "        location.append(result[0])"
   ]
  },
  {
   "cell_type": "code",
   "execution_count": 26,
   "id": "8351ff37",
   "metadata": {},
   "outputs": [
    {
     "data": {
      "text/plain": [
       "66"
      ]
     },
     "execution_count": 26,
     "metadata": {},
     "output_type": "execute_result"
    }
   ],
   "source": [
    "len(location)"
   ]
  },
  {
   "cell_type": "code",
   "execution_count": 59,
   "id": "05ed4c5d",
   "metadata": {},
   "outputs": [],
   "source": [
    "list5=driver.find_element(By.XPATH,'//*[@id=\"mw-content-text\"]/div[1]/table[10]/tbody/tr/td[3]').text.split(\",\")"
   ]
  },
  {
   "cell_type": "code",
   "execution_count": 62,
   "id": "2786f2f0",
   "metadata": {},
   "outputs": [
    {
     "data": {
      "text/plain": [
       "['성북구', ' 서초구']"
      ]
     },
     "execution_count": 62,
     "metadata": {},
     "output_type": "execute_result"
    }
   ],
   "source": [
    "list5"
   ]
  },
  {
   "cell_type": "code",
   "execution_count": 63,
   "id": "3cb89453",
   "metadata": {},
   "outputs": [],
   "source": [
    "location.append(list5[0])"
   ]
  },
  {
   "cell_type": "code",
   "execution_count": 66,
   "id": "2c3f8365",
   "metadata": {},
   "outputs": [],
   "source": [
    "location.append(list5[1])"
   ]
  },
  {
   "cell_type": "code",
   "execution_count": 67,
   "id": "37108fac",
   "metadata": {},
   "outputs": [
    {
     "data": {
      "text/plain": [
       "68"
      ]
     },
     "execution_count": 67,
     "metadata": {},
     "output_type": "execute_result"
    }
   ],
   "source": [
    "len(location)"
   ]
  },
  {
   "cell_type": "code",
   "execution_count": null,
   "id": "53a87dc4",
   "metadata": {},
   "outputs": [],
   "source": []
  },
  {
   "cell_type": "code",
   "execution_count": 61,
   "id": "1d3b985e",
   "metadata": {},
   "outputs": [],
   "source": [
    "location=location[0:66]"
   ]
  },
  {
   "cell_type": "code",
   "execution_count": 68,
   "id": "5cbc2678",
   "metadata": {},
   "outputs": [
    {
     "data": {
      "text/plain": [
       "['종로구',\n",
       " '서초구',\n",
       " '서대문구',\n",
       " '광진구',\n",
       " '서대문구',\n",
       " '동대문구',\n",
       " '성북구',\n",
       " '노원구',\n",
       " '성북구',\n",
       " '강서구',\n",
       " '도봉구',\n",
       " '중구',\n",
       " '성북구',\n",
       " '서대문구',\n",
       " '노원구',\n",
       " '종로구',\n",
       " '마포구',\n",
       " '성북구',\n",
       " '구로구',\n",
       " '관악구',\n",
       " '종로구',\n",
       " '노원구',\n",
       " '종로구',\n",
       " '노원구',\n",
       " '은평구',\n",
       " '동대문구',\n",
       " '구로구',\n",
       " '종로구',\n",
       " '도봉구',\n",
       " '성북구',\n",
       " '광진구',\n",
       " '용산구',\n",
       " '동작구',\n",
       " '서대문구',\n",
       " '노원구',\n",
       " '서대문구',\n",
       " '광진구',\n",
       " '동작구',\n",
       " '동작구',\n",
       " '서대문구',\n",
       " '노원구',\n",
       " '동대문구',\n",
       " '성북구',\n",
       " '성동구',\n",
       " '강북구',\n",
       " '서초구',\n",
       " '마포구',\n",
       " '동대문구',\n",
       " '강남구',\n",
       " '송파구',\n",
       " '서초구',\n",
       " '서초구',\n",
       " '구로구',\n",
       " '서대문구',\n",
       " '종로구',\n",
       " '동대문구',\n",
       " '서대문구',\n",
       " '중랑구',\n",
       " '중구',\n",
       " '노원구',\n",
       " '용산구',\n",
       " '강서구',\n",
       " '성동구',\n",
       " '강남구',\n",
       " '서초구',\n",
       " '중구',\n",
       " '성북구',\n",
       " ' 서초구']"
      ]
     },
     "execution_count": 68,
     "metadata": {},
     "output_type": "execute_result"
    }
   ],
   "source": [
    "location"
   ]
  },
  {
   "cell_type": "code",
   "execution_count": 76,
   "id": "c9c2c94e",
   "metadata": {},
   "outputs": [],
   "source": [
    "university=pd.DataFrame({\"자치구별\":location})"
   ]
  },
  {
   "cell_type": "code",
   "execution_count": 70,
   "id": "14ba3407",
   "metadata": {},
   "outputs": [
    {
     "data": {
      "text/html": [
       "<div>\n",
       "<style scoped>\n",
       "    .dataframe tbody tr th:only-of-type {\n",
       "        vertical-align: middle;\n",
       "    }\n",
       "\n",
       "    .dataframe tbody tr th {\n",
       "        vertical-align: top;\n",
       "    }\n",
       "\n",
       "    .dataframe thead th {\n",
       "        text-align: right;\n",
       "    }\n",
       "</style>\n",
       "<table border=\"1\" class=\"dataframe\">\n",
       "  <thead>\n",
       "    <tr style=\"text-align: right;\">\n",
       "      <th></th>\n",
       "      <th>대학교수</th>\n",
       "    </tr>\n",
       "  </thead>\n",
       "  <tbody>\n",
       "    <tr>\n",
       "      <th>0</th>\n",
       "      <td>종로구</td>\n",
       "    </tr>\n",
       "    <tr>\n",
       "      <th>1</th>\n",
       "      <td>서초구</td>\n",
       "    </tr>\n",
       "    <tr>\n",
       "      <th>2</th>\n",
       "      <td>서대문구</td>\n",
       "    </tr>\n",
       "    <tr>\n",
       "      <th>3</th>\n",
       "      <td>광진구</td>\n",
       "    </tr>\n",
       "    <tr>\n",
       "      <th>4</th>\n",
       "      <td>서대문구</td>\n",
       "    </tr>\n",
       "    <tr>\n",
       "      <th>...</th>\n",
       "      <td>...</td>\n",
       "    </tr>\n",
       "    <tr>\n",
       "      <th>63</th>\n",
       "      <td>강남구</td>\n",
       "    </tr>\n",
       "    <tr>\n",
       "      <th>64</th>\n",
       "      <td>서초구</td>\n",
       "    </tr>\n",
       "    <tr>\n",
       "      <th>65</th>\n",
       "      <td>중구</td>\n",
       "    </tr>\n",
       "    <tr>\n",
       "      <th>66</th>\n",
       "      <td>성북구</td>\n",
       "    </tr>\n",
       "    <tr>\n",
       "      <th>67</th>\n",
       "      <td>서초구</td>\n",
       "    </tr>\n",
       "  </tbody>\n",
       "</table>\n",
       "<p>68 rows × 1 columns</p>\n",
       "</div>"
      ],
      "text/plain": [
       "    대학교수\n",
       "0    종로구\n",
       "1    서초구\n",
       "2   서대문구\n",
       "3    광진구\n",
       "4   서대문구\n",
       "..   ...\n",
       "63   강남구\n",
       "64   서초구\n",
       "65    중구\n",
       "66   성북구\n",
       "67   서초구\n",
       "\n",
       "[68 rows x 1 columns]"
      ]
     },
     "execution_count": 70,
     "metadata": {},
     "output_type": "execute_result"
    }
   ],
   "source": [
    "university"
   ]
  },
  {
   "cell_type": "code",
   "execution_count": 78,
   "id": "ebbbd2af",
   "metadata": {},
   "outputs": [],
   "source": [
    "university=university.groupby(\"자치구별\")[[\"자치구별\"]].count()"
   ]
  },
  {
   "cell_type": "code",
   "execution_count": 80,
   "id": "ce5f214a",
   "metadata": {},
   "outputs": [],
   "source": [
    "university.columns=[\"대학교갯수\"]"
   ]
  },
  {
   "cell_type": "code",
   "execution_count": 81,
   "id": "fdb417fb",
   "metadata": {},
   "outputs": [
    {
     "data": {
      "text/html": [
       "<div>\n",
       "<style scoped>\n",
       "    .dataframe tbody tr th:only-of-type {\n",
       "        vertical-align: middle;\n",
       "    }\n",
       "\n",
       "    .dataframe tbody tr th {\n",
       "        vertical-align: top;\n",
       "    }\n",
       "\n",
       "    .dataframe thead th {\n",
       "        text-align: right;\n",
       "    }\n",
       "</style>\n",
       "<table border=\"1\" class=\"dataframe\">\n",
       "  <thead>\n",
       "    <tr style=\"text-align: right;\">\n",
       "      <th></th>\n",
       "      <th>대학교갯수</th>\n",
       "    </tr>\n",
       "    <tr>\n",
       "      <th>자치구별</th>\n",
       "      <th></th>\n",
       "    </tr>\n",
       "  </thead>\n",
       "  <tbody>\n",
       "    <tr>\n",
       "      <th>서초구</th>\n",
       "      <td>1</td>\n",
       "    </tr>\n",
       "    <tr>\n",
       "      <th>강남구</th>\n",
       "      <td>2</td>\n",
       "    </tr>\n",
       "    <tr>\n",
       "      <th>강북구</th>\n",
       "      <td>1</td>\n",
       "    </tr>\n",
       "    <tr>\n",
       "      <th>강서구</th>\n",
       "      <td>2</td>\n",
       "    </tr>\n",
       "    <tr>\n",
       "      <th>관악구</th>\n",
       "      <td>1</td>\n",
       "    </tr>\n",
       "    <tr>\n",
       "      <th>광진구</th>\n",
       "      <td>3</td>\n",
       "    </tr>\n",
       "    <tr>\n",
       "      <th>구로구</th>\n",
       "      <td>3</td>\n",
       "    </tr>\n",
       "    <tr>\n",
       "      <th>노원구</th>\n",
       "      <td>7</td>\n",
       "    </tr>\n",
       "    <tr>\n",
       "      <th>도봉구</th>\n",
       "      <td>2</td>\n",
       "    </tr>\n",
       "    <tr>\n",
       "      <th>동대문구</th>\n",
       "      <td>5</td>\n",
       "    </tr>\n",
       "    <tr>\n",
       "      <th>동작구</th>\n",
       "      <td>3</td>\n",
       "    </tr>\n",
       "    <tr>\n",
       "      <th>마포구</th>\n",
       "      <td>2</td>\n",
       "    </tr>\n",
       "    <tr>\n",
       "      <th>서대문구</th>\n",
       "      <td>8</td>\n",
       "    </tr>\n",
       "    <tr>\n",
       "      <th>서초구</th>\n",
       "      <td>5</td>\n",
       "    </tr>\n",
       "    <tr>\n",
       "      <th>성동구</th>\n",
       "      <td>2</td>\n",
       "    </tr>\n",
       "    <tr>\n",
       "      <th>성북구</th>\n",
       "      <td>7</td>\n",
       "    </tr>\n",
       "    <tr>\n",
       "      <th>송파구</th>\n",
       "      <td>1</td>\n",
       "    </tr>\n",
       "    <tr>\n",
       "      <th>용산구</th>\n",
       "      <td>2</td>\n",
       "    </tr>\n",
       "    <tr>\n",
       "      <th>은평구</th>\n",
       "      <td>1</td>\n",
       "    </tr>\n",
       "    <tr>\n",
       "      <th>종로구</th>\n",
       "      <td>6</td>\n",
       "    </tr>\n",
       "    <tr>\n",
       "      <th>중구</th>\n",
       "      <td>3</td>\n",
       "    </tr>\n",
       "    <tr>\n",
       "      <th>중랑구</th>\n",
       "      <td>1</td>\n",
       "    </tr>\n",
       "  </tbody>\n",
       "</table>\n",
       "</div>"
      ],
      "text/plain": [
       "      대학교갯수\n",
       "자치구별       \n",
       " 서초구      1\n",
       "강남구       2\n",
       "강북구       1\n",
       "강서구       2\n",
       "관악구       1\n",
       "광진구       3\n",
       "구로구       3\n",
       "노원구       7\n",
       "도봉구       2\n",
       "동대문구      5\n",
       "동작구       3\n",
       "마포구       2\n",
       "서대문구      8\n",
       "서초구       5\n",
       "성동구       2\n",
       "성북구       7\n",
       "송파구       1\n",
       "용산구       2\n",
       "은평구       1\n",
       "종로구       6\n",
       "중구        3\n",
       "중랑구       1"
      ]
     },
     "execution_count": 81,
     "metadata": {},
     "output_type": "execute_result"
    }
   ],
   "source": [
    "university"
   ]
  },
  {
   "cell_type": "code",
   "execution_count": 82,
   "id": "349fdef7",
   "metadata": {},
   "outputs": [],
   "source": [
    "university.to_csv(\"C:\\\\Users\\\\owner\\\\team project\\\\전처리 완\\\\university.csv\")"
   ]
  },
  {
   "cell_type": "code",
   "execution_count": 82,
   "id": "dceb0182",
   "metadata": {},
   "outputs": [],
   "source": [
    "uni.columns=[\"대학교개수\"]"
   ]
  },
  {
   "cell_type": "code",
   "execution_count": 84,
   "id": "4494129c",
   "metadata": {
    "collapsed": true
   },
   "outputs": [
    {
     "data": {
      "text/html": [
       "<div>\n",
       "<style scoped>\n",
       "    .dataframe tbody tr th:only-of-type {\n",
       "        vertical-align: middle;\n",
       "    }\n",
       "\n",
       "    .dataframe tbody tr th {\n",
       "        vertical-align: top;\n",
       "    }\n",
       "\n",
       "    .dataframe thead th {\n",
       "        text-align: right;\n",
       "    }\n",
       "</style>\n",
       "<table border=\"1\" class=\"dataframe\">\n",
       "  <thead>\n",
       "    <tr style=\"text-align: right;\">\n",
       "      <th></th>\n",
       "      <th>대학교개수</th>\n",
       "    </tr>\n",
       "    <tr>\n",
       "      <th>자치구별</th>\n",
       "      <th></th>\n",
       "    </tr>\n",
       "  </thead>\n",
       "  <tbody>\n",
       "    <tr>\n",
       "      <th>강남구</th>\n",
       "      <td>1</td>\n",
       "    </tr>\n",
       "    <tr>\n",
       "      <th>강북구</th>\n",
       "      <td>1</td>\n",
       "    </tr>\n",
       "    <tr>\n",
       "      <th>강서구</th>\n",
       "      <td>1</td>\n",
       "    </tr>\n",
       "    <tr>\n",
       "      <th>관악구</th>\n",
       "      <td>1</td>\n",
       "    </tr>\n",
       "    <tr>\n",
       "      <th>광진구</th>\n",
       "      <td>3</td>\n",
       "    </tr>\n",
       "    <tr>\n",
       "      <th>구로구</th>\n",
       "      <td>2</td>\n",
       "    </tr>\n",
       "    <tr>\n",
       "      <th>노원구</th>\n",
       "      <td>6</td>\n",
       "    </tr>\n",
       "    <tr>\n",
       "      <th>도봉구</th>\n",
       "      <td>2</td>\n",
       "    </tr>\n",
       "    <tr>\n",
       "      <th>동대문구</th>\n",
       "      <td>4</td>\n",
       "    </tr>\n",
       "    <tr>\n",
       "      <th>동작구</th>\n",
       "      <td>3</td>\n",
       "    </tr>\n",
       "    <tr>\n",
       "      <th>마포구</th>\n",
       "      <td>2</td>\n",
       "    </tr>\n",
       "    <tr>\n",
       "      <th>서대문구</th>\n",
       "      <td>6</td>\n",
       "    </tr>\n",
       "    <tr>\n",
       "      <th>서초구</th>\n",
       "      <td>2</td>\n",
       "    </tr>\n",
       "    <tr>\n",
       "      <th>성동구</th>\n",
       "      <td>1</td>\n",
       "    </tr>\n",
       "    <tr>\n",
       "      <th>성북구</th>\n",
       "      <td>6</td>\n",
       "    </tr>\n",
       "    <tr>\n",
       "      <th>송파구</th>\n",
       "      <td>1</td>\n",
       "    </tr>\n",
       "    <tr>\n",
       "      <th>용산구</th>\n",
       "      <td>1</td>\n",
       "    </tr>\n",
       "    <tr>\n",
       "      <th>은평구</th>\n",
       "      <td>1</td>\n",
       "    </tr>\n",
       "    <tr>\n",
       "      <th>종로구</th>\n",
       "      <td>5</td>\n",
       "    </tr>\n",
       "    <tr>\n",
       "      <th>중구</th>\n",
       "      <td>1</td>\n",
       "    </tr>\n",
       "  </tbody>\n",
       "</table>\n",
       "</div>"
      ],
      "text/plain": [
       "      대학교개수\n",
       "자치구별       \n",
       "강남구       1\n",
       "강북구       1\n",
       "강서구       1\n",
       "관악구       1\n",
       "광진구       3\n",
       "구로구       2\n",
       "노원구       6\n",
       "도봉구       2\n",
       "동대문구      4\n",
       "동작구       3\n",
       "마포구       2\n",
       "서대문구      6\n",
       "서초구       2\n",
       "성동구       1\n",
       "성북구       6\n",
       "송파구       1\n",
       "용산구       1\n",
       "은평구       1\n",
       "종로구       5\n",
       "중구        1"
      ]
     },
     "execution_count": 84,
     "metadata": {},
     "output_type": "execute_result"
    }
   ],
   "source": [
    "uni"
   ]
  },
  {
   "cell_type": "code",
   "execution_count": 85,
   "id": "9afda0de",
   "metadata": {},
   "outputs": [],
   "source": [
    "uni.to_csv(\"C:\\\\Users\\\\owner\\\\team project\\\\전처리 완\\\\university.csv\")"
   ]
  },
  {
   "cell_type": "code",
   "execution_count": null,
   "id": "9d9a5da9",
   "metadata": {},
   "outputs": [],
   "source": []
  }
 ],
 "metadata": {
  "kernelspec": {
   "display_name": "Python 3 (ipykernel)",
   "language": "python",
   "name": "python3"
  },
  "language_info": {
   "codemirror_mode": {
    "name": "ipython",
    "version": 3
   },
   "file_extension": ".py",
   "mimetype": "text/x-python",
   "name": "python",
   "nbconvert_exporter": "python",
   "pygments_lexer": "ipython3",
   "version": "3.9.13"
  }
 },
 "nbformat": 4,
 "nbformat_minor": 5
}
